{
 "cells": [
  {
   "cell_type": "markdown",
   "metadata": {},
   "source": [
    "# Text-to-SQL solution on top of Amazon products\n",
    "\n",
    "In this notebook we will explore what it takes to implement a text-to-SQL solution on top of our Amazon dataset using LlamaIndex."
   ]
  },
  {
   "cell_type": "markdown",
   "metadata": {},
   "source": [
    "## Imports"
   ]
  },
  {
   "cell_type": "code",
   "execution_count": 1,
   "metadata": {},
   "outputs": [
    {
     "name": "stderr",
     "output_type": "stream",
     "text": [
      "\u001b[32m2024-12-12 18:33:52.629\u001b[0m | \u001b[1mINFO    \u001b[0m | \u001b[36msuperlinked_app.config\u001b[0m:\u001b[36m<module>\u001b[0m:\u001b[36m9\u001b[0m - \u001b[1mLoading '.env' file from: /Users/pauliusztin/Documents/01_projects/hands-on-retrieval/.env\u001b[0m\n"
     ]
    }
   ],
   "source": [
    "import openai\n",
    "import pandas as pd\n",
    "\n",
    "from superlinked_app.config import settings\n",
    "\n",
    "settings.validate_processed_dataset_exists()"
   ]
  },
  {
   "cell_type": "code",
   "execution_count": 2,
   "metadata": {},
   "outputs": [],
   "source": [
    "openai.api_key = settings.OPENAI_API_KEY"
   ]
  },
  {
   "cell_type": "markdown",
   "metadata": {},
   "source": [
    "## Create Database Schema"
   ]
  },
  {
   "cell_type": "code",
   "execution_count": 3,
   "metadata": {},
   "outputs": [],
   "source": [
    "from sqlalchemy import (\n",
    "    Column,\n",
    "    Float,\n",
    "    Integer,\n",
    "    MetaData,\n",
    "    String,\n",
    "    Table,\n",
    "    create_engine,\n",
    "    insert,\n",
    "    select,\n",
    ")"
   ]
  },
  {
   "cell_type": "code",
   "execution_count": 4,
   "metadata": {},
   "outputs": [],
   "source": [
    "engine = create_engine(\"sqlite:///:memory:\")\n",
    "metadata_obj = MetaData()"
   ]
  },
  {
   "cell_type": "markdown",
   "metadata": {},
   "source": [
    "Create the product SQL table:"
   ]
  },
  {
   "cell_type": "code",
   "execution_count": 5,
   "metadata": {},
   "outputs": [],
   "source": [
    "product_table_name = \"product\"\n",
    "product_table = Table(\n",
    "    product_table_name,\n",
    "    metadata_obj,\n",
    "    Column(\"asin\", String(255), primary_key=True),\n",
    "    Column(\"type\", String(255)),\n",
    "    Column(\"title\", String(255)),\n",
    "    Column(\"description\", String(1000)),\n",
    "    Column(\"review_rating\", Float),\n",
    "    Column(\"review_count\", Integer),\n",
    "    Column(\"price\", Float),\n",
    ")\n",
    "metadata_obj.create_all(engine)"
   ]
  },
  {
   "cell_type": "markdown",
   "metadata": {},
   "source": [
    "## Define SQL Database\n",
    "\n",
    "We first define our SQLDatabase abstraction (a light wrapper around SQLAlchemy)."
   ]
  },
  {
   "cell_type": "code",
   "execution_count": 6,
   "metadata": {},
   "outputs": [],
   "source": [
    "from llama_index.core import SQLDatabase\n",
    "from llama_index.llms.openai import OpenAI"
   ]
  },
  {
   "cell_type": "code",
   "execution_count": 7,
   "metadata": {},
   "outputs": [],
   "source": [
    "llm = OpenAI(temperature=0.1, model=settings.OPENAI_MODEL_ID)"
   ]
  },
  {
   "cell_type": "code",
   "execution_count": 8,
   "metadata": {},
   "outputs": [],
   "source": [
    "sql_database = SQLDatabase(engine, include_tables=[product_table_name])"
   ]
  },
  {
   "cell_type": "markdown",
   "metadata": {},
   "source": [
    "Add the data to the SQL database:"
   ]
  },
  {
   "cell_type": "code",
   "execution_count": 9,
   "metadata": {},
   "outputs": [
    {
     "data": {
      "text/html": [
       "<div>\n",
       "<style scoped>\n",
       "    .dataframe tbody tr th:only-of-type {\n",
       "        vertical-align: middle;\n",
       "    }\n",
       "\n",
       "    .dataframe tbody tr th {\n",
       "        vertical-align: top;\n",
       "    }\n",
       "\n",
       "    .dataframe thead th {\n",
       "        text-align: right;\n",
       "    }\n",
       "</style>\n",
       "<table border=\"1\" class=\"dataframe\">\n",
       "  <thead>\n",
       "    <tr style=\"text-align: right;\">\n",
       "      <th></th>\n",
       "      <th>asin</th>\n",
       "      <th>type</th>\n",
       "      <th>title</th>\n",
       "      <th>description</th>\n",
       "      <th>price</th>\n",
       "      <th>review_rating</th>\n",
       "      <th>review_count</th>\n",
       "    </tr>\n",
       "  </thead>\n",
       "  <tbody>\n",
       "    <tr>\n",
       "      <th>0</th>\n",
       "      <td>B07WP4RXHY</td>\n",
       "      <td>product</td>\n",
       "      <td>YUEPIN U-Tube Clamp 304 Stainless Steel Hose P...</td>\n",
       "      <td>Product Description Specification: Material: 3...</td>\n",
       "      <td>9.99</td>\n",
       "      <td>4.7</td>\n",
       "      <td>54</td>\n",
       "    </tr>\n",
       "    <tr>\n",
       "      <th>1</th>\n",
       "      <td>B07VRZTK2N</td>\n",
       "      <td>product</td>\n",
       "      <td>Apron for Women, Waterproof Adjustable Bib Coo...</td>\n",
       "      <td></td>\n",
       "      <td>11.99</td>\n",
       "      <td>4.0</td>\n",
       "      <td>152</td>\n",
       "    </tr>\n",
       "    <tr>\n",
       "      <th>2</th>\n",
       "      <td>B07V2F5SN1</td>\n",
       "      <td>product</td>\n",
       "      <td>DIY 5D Diamond Painting by Number Kit for Adul...</td>\n",
       "      <td>Product Description 5D DIY Diamond Painting is...</td>\n",
       "      <td>9.99</td>\n",
       "      <td>4.6</td>\n",
       "      <td>378</td>\n",
       "    </tr>\n",
       "    <tr>\n",
       "      <th>3</th>\n",
       "      <td>B08GM4LMKN</td>\n",
       "      <td>product</td>\n",
       "      <td>Órgano bucal de armónica trémolo de 24 agujero...</td>\n",
       "      <td>Descripción del producto Especificación: Tipo ...</td>\n",
       "      <td>25.63</td>\n",
       "      <td>4.6</td>\n",
       "      <td>9</td>\n",
       "    </tr>\n",
       "    <tr>\n",
       "      <th>4</th>\n",
       "      <td>B00MNLQQ7K</td>\n",
       "      <td>product</td>\n",
       "      <td>Design Toscano QM2787100 Darby, the Forest Faw...</td>\n",
       "      <td></td>\n",
       "      <td>40.72</td>\n",
       "      <td>4.7</td>\n",
       "      <td>274</td>\n",
       "    </tr>\n",
       "  </tbody>\n",
       "</table>\n",
       "</div>"
      ],
      "text/plain": [
       "         asin     type                                              title  \\\n",
       "0  B07WP4RXHY  product  YUEPIN U-Tube Clamp 304 Stainless Steel Hose P...   \n",
       "1  B07VRZTK2N  product  Apron for Women, Waterproof Adjustable Bib Coo...   \n",
       "2  B07V2F5SN1  product  DIY 5D Diamond Painting by Number Kit for Adul...   \n",
       "3  B08GM4LMKN  product  Órgano bucal de armónica trémolo de 24 agujero...   \n",
       "4  B00MNLQQ7K  product  Design Toscano QM2787100 Darby, the Forest Faw...   \n",
       "\n",
       "                                         description  price  review_rating  \\\n",
       "0  Product Description Specification: Material: 3...   9.99            4.7   \n",
       "1                                                     11.99            4.0   \n",
       "2  Product Description 5D DIY Diamond Painting is...   9.99            4.6   \n",
       "3  Descripción del producto Especificación: Tipo ...  25.63            4.6   \n",
       "4                                                     40.72            4.7   \n",
       "\n",
       "   review_count  \n",
       "0            54  \n",
       "1           152  \n",
       "2           378  \n",
       "3             9  \n",
       "4           274  "
      ]
     },
     "execution_count": 9,
     "metadata": {},
     "output_type": "execute_result"
    }
   ],
   "source": [
    "df = pd.read_json(settings.PROCESSED_DATASET_PATH, lines=True).drop(columns=['category'])\n",
    "df.head()"
   ]
  },
  {
   "cell_type": "code",
   "execution_count": 10,
   "metadata": {},
   "outputs": [],
   "source": [
    "for _, row in df.iterrows():\n",
    "    stmt = insert(product_table).values(**row.to_dict())\n",
    "    with engine.begin() as connection:\n",
    "        cursor = connection.execute(stmt)"
   ]
  },
  {
   "cell_type": "markdown",
   "metadata": {},
   "source": [
    "## Query Database\n",
    "\n",
    "Let's query the database to see that everything worked fine."
   ]
  },
  {
   "cell_type": "code",
   "execution_count": 11,
   "metadata": {},
   "outputs": [
    {
     "name": "stdout",
     "output_type": "stream",
     "text": [
      "ASIN: B07WP4RXHY\n",
      "Type: product\n",
      "Title: YUEPIN U-Tube Clamp 304 Stainless Steel Hose Pipe Cable Strap Clips With Rubber Cushioned (1-21/32\"(42mm)-10pcs)\n",
      "Description: Product Description Specification: Material: 304 Stainless Steel,100% New Rubber Color: Silver Shape...\n",
      "Rating: 4.7/5.0 (54 reviews)\n",
      "Price: $9.99\n",
      "--------------------------------------------------------------------------------\n",
      "ASIN: B07VRZTK2N\n",
      "Type: product\n",
      "Title: Apron for Women, Waterproof Adjustable Bib Cooking Aprons with Pocket-2 Side Coral Velvet Towels Stitched Durable Pinstripe Aprons for Dishwashing, Baking, Grill, Restaurant Even Garden Craft\n",
      "Description: ...\n",
      "Rating: 4.0/5.0 (152 reviews)\n",
      "Price: $11.99\n",
      "--------------------------------------------------------------------------------\n",
      "ASIN: B07V2F5SN1\n",
      "Type: product\n",
      "Title: DIY 5D Diamond Painting by Number Kit for Adult, Full Drill Crystal Rhinestone Embroidery Cross Stitch Diamond Embroidery Dotz Kit Home Wall Decor 15.8×11.8 Inch (Wolf)\n",
      "Description: Product Description 5D DIY Diamond Painting is the new popular product Can be used in the Bedroom, D...\n",
      "Rating: 4.6/5.0 (378 reviews)\n",
      "Price: $9.99\n",
      "--------------------------------------------------------------------------------\n"
     ]
    }
   ],
   "source": [
    "stmt = select(\n",
    "    product_table.c.asin,\n",
    "    product_table.c.type,\n",
    "    product_table.c.title,\n",
    "    product_table.c.description,\n",
    "    product_table.c.review_rating,\n",
    "    product_table.c.review_count,\n",
    "    product_table.c.price,\n",
    ").select_from(product_table)\n",
    "\n",
    "with engine.connect() as connection:\n",
    "    results = connection.execute(stmt).fetchmany(3)\n",
    "    for result in results:\n",
    "        print(f\"ASIN: {result.asin}\")\n",
    "        print(f\"Type: {result.type}\")\n",
    "        print(f\"Title: {result.title}\")\n",
    "        print(f\"Description: {result.description[:100]}...\")  # Truncate long descriptions\n",
    "        print(f\"Rating: {result.review_rating:.1f}/5.0 ({result.review_count} reviews)\")\n",
    "        print(f\"Price: ${result.price:.2f}\")\n",
    "        print(\"-\" * 80)"
   ]
  },
  {
   "cell_type": "markdown",
   "metadata": {},
   "source": [
    "## Text-to-SQL Retriever\n",
    "\n",
    "Let's use the LlamaIndex SQL retriever to map text to SQL instructions and retrieve data from the SQLite table. "
   ]
  },
  {
   "cell_type": "code",
   "execution_count": 12,
   "metadata": {},
   "outputs": [],
   "source": [
    "from llama_index.core.retrievers import NLSQLRetriever\n",
    "from llama_index.core.response.notebook_utils import display_source_node\n",
    "\n",
    "nl_sql_retriever = NLSQLRetriever(\n",
    "    sql_database, tables=[product_table_name], return_raw=False\n",
    ")"
   ]
  },
  {
   "cell_type": "markdown",
   "metadata": {},
   "source": [
    "All the content is in the `metadata`:"
   ]
  },
  {
   "cell_type": "code",
   "execution_count": 13,
   "metadata": {},
   "outputs": [
    {
     "data": {
      "text/markdown": [
       "**Node ID:** fe83bde8-54c6-46a7-bd31-7661bab4f8a8<br>**Similarity:** None<br>**Text:** <br>**Metadata:** {'title': 'All Aboard! New York: A City Primer', 'price': 9.99}<br>"
      ],
      "text/plain": [
       "<IPython.core.display.Markdown object>"
      ]
     },
     "metadata": {},
     "output_type": "display_data"
    },
    {
     "data": {
      "text/markdown": [
       "**Node ID:** 5ab49fa1-e254-4031-93bd-30dd0921c4ae<br>**Similarity:** None<br>**Text:** <br>**Metadata:** {'title': 'Feminist Baby (Feminist Baby, 4)', 'price': 10.59}<br>"
      ],
      "text/plain": [
       "<IPython.core.display.Markdown object>"
      ]
     },
     "metadata": {},
     "output_type": "display_data"
    },
    {
     "data": {
      "text/markdown": [
       "**Node ID:** cc2142f6-58bf-44ee-9da5-e1df181c0d13<br>**Similarity:** None<br>**Text:** <br>**Metadata:** {'title': 'The Mindful Dragon: A Dragon Book about Mindfulness. Teach Your Dragon To Be Mindful. A Cute Children Story to Teach Kids about Mindfulness, Focus and Peace. (My Dragon Books)', 'price': 11.69}<br>"
      ],
      "text/plain": [
       "<IPython.core.display.Markdown object>"
      ]
     },
     "metadata": {},
     "output_type": "display_data"
    }
   ],
   "source": [
    "results = nl_sql_retriever.retrieve(\n",
    "   \"books with a price lower than 100\"\n",
    ")\n",
    "for n in results[:3]:\n",
    "    display_source_node(n, show_source_metadata=True)"
   ]
  },
  {
   "cell_type": "code",
   "execution_count": 14,
   "metadata": {},
   "outputs": [
    {
     "data": {
      "text/markdown": [
       "**Node ID:** bbb01131-a9ca-4b8f-a06a-e5b713bbe0ff<br>**Similarity:** None<br>**Text:** <br>**Metadata:** {'title': 'Stables: Beautiful Paddocks, Horse Barns, and Tack Rooms', 'price': 53.1, 'review_rating': 4.7}<br>"
      ],
      "text/plain": [
       "<IPython.core.display.Markdown object>"
      ]
     },
     "metadata": {},
     "output_type": "display_data"
    },
    {
     "data": {
      "text/markdown": [
       "**Node ID:** a0c8a2f9-595b-4fb4-b140-0a0bf68f436f<br>**Similarity:** None<br>**Text:** <br>**Metadata:** {'title': 'The Mindful Dragon: A Dragon Book about Mindfulness. Teach Your Dragon To Be Mindful. A Cute Children Story to Teach Kids about Mindfulness, Focus and Peace. (My Dragon Books)', 'price': 11.69, 'review_rating': 4.7}<br>"
      ],
      "text/plain": [
       "<IPython.core.display.Markdown object>"
      ]
     },
     "metadata": {},
     "output_type": "display_data"
    },
    {
     "data": {
      "text/markdown": [
       "**Node ID:** c1b7b9c7-1ceb-43ee-b7b9-b93990352772<br>**Similarity:** None<br>**Text:** <br>**Metadata:** {'title': 'Build Your Running Body (A Total-Body Fitness Plan for All Distance Runners, from Milers to Ultramarathoners—Run Farther, Faster, and Injury-Free)', 'price': 13.49, 'review_rating': 4.7}<br>"
      ],
      "text/plain": [
       "<IPython.core.display.Markdown object>"
      ]
     },
     "metadata": {},
     "output_type": "display_data"
    }
   ],
   "source": [
    "results = nl_sql_retriever.retrieve(\n",
    "   \"books with a price lower than 100 and a rating bigger than 4\"\n",
    ")\n",
    "for n in results[:3]:\n",
    "    display_source_node(n, show_source_metadata=True)"
   ]
  },
  {
   "cell_type": "code",
   "execution_count": 15,
   "metadata": {},
   "outputs": [
    {
     "data": {
      "text/markdown": [
       "**Node ID:** 14d164c1-9926-486e-8616-4e945a345174<br>**Similarity:** None<br>**Text:** <br>**Metadata:** {'title': 'Stables: Beautiful Paddocks, Horse Barns, and Tack Rooms', 'review_count': 100, 'price': 53.1}<br>"
      ],
      "text/plain": [
       "<IPython.core.display.Markdown object>"
      ]
     },
     "metadata": {},
     "output_type": "display_data"
    },
    {
     "data": {
      "text/markdown": [
       "**Node ID:** b9a67ec0-7101-446d-b36c-bb8435442123<br>**Similarity:** None<br>**Text:** <br>**Metadata:** {'title': 'The Mindful Dragon: A Dragon Book about Mindfulness. Teach Your Dragon To Be Mindful. A Cute Children Story to Teach Kids about Mindfulness, Focus and Peace. (My Dragon Books)', 'review_count': 623, 'price': 11.69}<br>"
      ],
      "text/plain": [
       "<IPython.core.display.Markdown object>"
      ]
     },
     "metadata": {},
     "output_type": "display_data"
    },
    {
     "data": {
      "text/markdown": [
       "**Node ID:** 094e44be-bf37-4d56-9d9d-3045ffbc6004<br>**Similarity:** None<br>**Text:** <br>**Metadata:** {'title': 'Build Your Running Body (A Total-Body Fitness Plan for All Distance Runners, from Milers to Ultramarathoners—Run Farther, Faster, and Injury-Free)', 'review_count': 573, 'price': 13.49}<br>"
      ],
      "text/plain": [
       "<IPython.core.display.Markdown object>"
      ]
     },
     "metadata": {},
     "output_type": "display_data"
    },
    {
     "data": {
      "text/markdown": [
       "**Node ID:** 2f8c362a-f7ea-4643-8986-107d0ba7ea5b<br>**Similarity:** None<br>**Text:** <br>**Metadata:** {'title': 'All Aboard! New York: A City Primer', 'review_count': 74, 'price': 9.99}<br>"
      ],
      "text/plain": [
       "<IPython.core.display.Markdown object>"
      ]
     },
     "metadata": {},
     "output_type": "display_data"
    },
    {
     "data": {
      "text/markdown": [
       "**Node ID:** a3c0a9e4-c3b5-482e-853f-d66ac38f7787<br>**Similarity:** None<br>**Text:** <br>**Metadata:** {'title': 'The Rise: Creativity, the Gift of Failure, and the Search for Mastery', 'review_count': 204, 'price': 13.79}<br>"
      ],
      "text/plain": [
       "<IPython.core.display.Markdown object>"
      ]
     },
     "metadata": {},
     "output_type": "display_data"
    }
   ],
   "source": [
    "results = nl_sql_retriever.retrieve(\n",
    "   \"Return the top 5 books (along with their review count and price) with the highest reviews rating.\"\n",
    ")\n",
    "for n in results:\n",
    "    display_source_node(n, show_source_metadata=True)"
   ]
  },
  {
   "cell_type": "markdown",
   "metadata": {},
   "source": [
    "## Plug in the RetrieverQueryEngine\n",
    "\n",
    "We compose our SQL Retriever with our standard RetrieverQueryEngine to synthesize a response. The result is similar to LlamaIndex's `NLSQLTableQueryEngine` class, which does both retrieval and synthetization of the response."
   ]
  },
  {
   "cell_type": "code",
   "execution_count": 16,
   "metadata": {},
   "outputs": [],
   "source": [
    "from llama_index.core.query_engine import RetrieverQueryEngine\n",
    "\n",
    "query_engine = RetrieverQueryEngine.from_args(nl_sql_retriever)"
   ]
  },
  {
   "cell_type": "code",
   "execution_count": 17,
   "metadata": {},
   "outputs": [],
   "source": [
    "response = query_engine.query(\n",
    "    \"Return the top 5 books (along with their review count and price) with the highest reviews rating.\"\n",
    ")"
   ]
  },
  {
   "cell_type": "code",
   "execution_count": 18,
   "metadata": {},
   "outputs": [
    {
     "name": "stdout",
     "output_type": "stream",
     "text": [
      "The Mindful Dragon: A Dragon Book about Mindfulness. Teach Your Dragon To Be Mindful. A Cute Children Story to Teach Kids about Mindfulness, Focus and Peace. (My Dragon Books) - 623 reviews, $11.69\n",
      "Build Your Running Body (A Total-Body Fitness Plan for All Distance Runners, from Milers to Ultramarathoners—Run Farther, Faster, and Injury-Free) - 573 reviews, $13.49\n",
      "The Rise: Creativity, the Gift of Failure, and the Search for Mastery - 204 reviews, $13.79\n",
      "Stables: Beautiful Paddocks, Horse Barns, and Tack Rooms - 100 reviews, $53.1\n",
      "All Aboard! New York: A City Primer - 74 reviews, $9.99\n"
     ]
    }
   ],
   "source": [
    "print(str(response))"
   ]
  }
 ],
 "metadata": {
  "kernelspec": {
   "display_name": ".venv",
   "language": "python",
   "name": "python3"
  },
  "language_info": {
   "codemirror_mode": {
    "name": "ipython",
    "version": 3
   },
   "file_extension": ".py",
   "mimetype": "text/x-python",
   "name": "python",
   "nbconvert_exporter": "python",
   "pygments_lexer": "ipython3",
   "version": "3.11.8"
  }
 },
 "nbformat": 4,
 "nbformat_minor": 2
}
