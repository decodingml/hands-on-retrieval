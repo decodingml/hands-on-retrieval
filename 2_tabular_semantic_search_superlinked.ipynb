{
 "cells": [
  {
   "cell_type": "markdown",
   "metadata": {},
   "source": [
    "# Tabular semantic search on top of Amazon products using Superlinked\n",
    "\n",
    "In this notebook we will explore how Superlinked works in building a tabular semantic search solution with natural language queries."
   ]
  },
  {
   "cell_type": "markdown",
   "metadata": {},
   "source": [
    "## Imports"
   ]
  },
  {
   "cell_type": "code",
   "execution_count": 1,
   "metadata": {},
   "outputs": [
    {
     "name": "stderr",
     "output_type": "stream",
     "text": [
      "/Users/pauliusztin/Documents/01_projects/hands-on-retrieval/.venv/lib/python3.11/site-packages/tqdm/auto.py:21: TqdmWarning: IProgress not found. Please update jupyter and ipywidgets. See https://ipywidgets.readthedocs.io/en/stable/user_install.html\n",
      "  from .autonotebook import tqdm as notebook_tqdm\n",
      "\u001b[32m2024-12-14 12:34:45.355\u001b[0m | \u001b[1mINFO    \u001b[0m | \u001b[36msuperlinked_app.config\u001b[0m:\u001b[36m<module>\u001b[0m:\u001b[36m9\u001b[0m - \u001b[1mLoading '.env' file from: /Users/pauliusztin/Documents/01_projects/hands-on-retrieval/.env\u001b[0m\n"
     ]
    }
   ],
   "source": [
    "%load_ext autoreload\n",
    "%autoreload 2\n",
    "\n",
    "import pandas as pd\n",
    "from superlinked import framework as sl\n",
    "\n",
    "from superlinked_app import index, query\n",
    "from superlinked_app.config import settings\n",
    "\n",
    "settings.validate_processed_dataset_exists()"
   ]
  },
  {
   "cell_type": "markdown",
   "metadata": {},
   "source": [
    "## Define the Superlinked app\n",
    "\n",
    "For exploring how Superlinked multi-attribute indexes and queries work we will use an `InMemory` vector database and executor. \n",
    "\n",
    "Mongo will be used when shipping the Superlinked app as a RESTful API."
   ]
  },
  {
   "cell_type": "code",
   "execution_count": 2,
   "metadata": {},
   "outputs": [],
   "source": [
    "source: sl.InMemorySource = sl.InMemorySource(\n",
    "    index.product,\n",
    "    parser=sl.DataFrameParser(schema=index.product, mapping={index.product.id: \"asin\"}),\n",
    ")\n",
    "executor = sl.InMemoryExecutor(sources=[source], indices=[index.product_index])\n",
    "app = executor.run()"
   ]
  },
  {
   "cell_type": "markdown",
   "metadata": {},
   "source": [
    "## Load the processed dataset"
   ]
  },
  {
   "cell_type": "code",
   "execution_count": 3,
   "metadata": {},
   "outputs": [
    {
     "data": {
      "text/html": [
       "<div>\n",
       "<style scoped>\n",
       "    .dataframe tbody tr th:only-of-type {\n",
       "        vertical-align: middle;\n",
       "    }\n",
       "\n",
       "    .dataframe tbody tr th {\n",
       "        vertical-align: top;\n",
       "    }\n",
       "\n",
       "    .dataframe thead th {\n",
       "        text-align: right;\n",
       "    }\n",
       "</style>\n",
       "<table border=\"1\" class=\"dataframe\">\n",
       "  <thead>\n",
       "    <tr style=\"text-align: right;\">\n",
       "      <th></th>\n",
       "      <th>asin</th>\n",
       "      <th>type</th>\n",
       "      <th>category</th>\n",
       "      <th>title</th>\n",
       "      <th>description</th>\n",
       "      <th>price</th>\n",
       "      <th>review_rating</th>\n",
       "      <th>review_count</th>\n",
       "    </tr>\n",
       "  </thead>\n",
       "  <tbody>\n",
       "    <tr>\n",
       "      <th>0</th>\n",
       "      <td>B07WP4RXHY</td>\n",
       "      <td>product</td>\n",
       "      <td>[Tools &amp; Home Improvement]</td>\n",
       "      <td>YUEPIN U-Tube Clamp 304 Stainless Steel Hose P...</td>\n",
       "      <td>Product Description Specification: Material: 3...</td>\n",
       "      <td>9.99</td>\n",
       "      <td>4.7</td>\n",
       "      <td>54</td>\n",
       "    </tr>\n",
       "    <tr>\n",
       "      <th>1</th>\n",
       "      <td>B07VRZTK2N</td>\n",
       "      <td>product</td>\n",
       "      <td>[]</td>\n",
       "      <td>Apron for Women, Waterproof Adjustable Bib Coo...</td>\n",
       "      <td></td>\n",
       "      <td>11.99</td>\n",
       "      <td>4.0</td>\n",
       "      <td>152</td>\n",
       "    </tr>\n",
       "    <tr>\n",
       "      <th>2</th>\n",
       "      <td>B07V2F5SN1</td>\n",
       "      <td>product</td>\n",
       "      <td>[Arts, Crafts &amp; Sewing]</td>\n",
       "      <td>DIY 5D Diamond Painting by Number Kit for Adul...</td>\n",
       "      <td>Product Description 5D DIY Diamond Painting is...</td>\n",
       "      <td>9.99</td>\n",
       "      <td>4.6</td>\n",
       "      <td>378</td>\n",
       "    </tr>\n",
       "    <tr>\n",
       "      <th>3</th>\n",
       "      <td>B00MNLQQ7K</td>\n",
       "      <td>product</td>\n",
       "      <td>[Patio, Lawn &amp; Garden]</td>\n",
       "      <td>Design Toscano QM2787100 Darby, the Forest Faw...</td>\n",
       "      <td></td>\n",
       "      <td>40.72</td>\n",
       "      <td>4.7</td>\n",
       "      <td>274</td>\n",
       "    </tr>\n",
       "    <tr>\n",
       "      <th>4</th>\n",
       "      <td>B089YD2KK5</td>\n",
       "      <td>product</td>\n",
       "      <td>[Clothing, Shoes &amp; Jewelry]</td>\n",
       "      <td>Crocs Jibbitz 5-Pack Alien Shoe Charms | Jibbi...</td>\n",
       "      <td>From the brand Previous page Shop Crocs Collec...</td>\n",
       "      <td>9.99</td>\n",
       "      <td>4.7</td>\n",
       "      <td>0</td>\n",
       "    </tr>\n",
       "  </tbody>\n",
       "</table>\n",
       "</div>"
      ],
      "text/plain": [
       "         asin     type                     category  \\\n",
       "0  B07WP4RXHY  product   [Tools & Home Improvement]   \n",
       "1  B07VRZTK2N  product                           []   \n",
       "2  B07V2F5SN1  product      [Arts, Crafts & Sewing]   \n",
       "3  B00MNLQQ7K  product       [Patio, Lawn & Garden]   \n",
       "4  B089YD2KK5  product  [Clothing, Shoes & Jewelry]   \n",
       "\n",
       "                                               title  \\\n",
       "0  YUEPIN U-Tube Clamp 304 Stainless Steel Hose P...   \n",
       "1  Apron for Women, Waterproof Adjustable Bib Coo...   \n",
       "2  DIY 5D Diamond Painting by Number Kit for Adul...   \n",
       "3  Design Toscano QM2787100 Darby, the Forest Faw...   \n",
       "4  Crocs Jibbitz 5-Pack Alien Shoe Charms | Jibbi...   \n",
       "\n",
       "                                         description  price  review_rating  \\\n",
       "0  Product Description Specification: Material: 3...   9.99            4.7   \n",
       "1                                                     11.99            4.0   \n",
       "2  Product Description 5D DIY Diamond Painting is...   9.99            4.6   \n",
       "3                                                     40.72            4.7   \n",
       "4  From the brand Previous page Shop Crocs Collec...   9.99            4.7   \n",
       "\n",
       "   review_count  \n",
       "0            54  \n",
       "1           152  \n",
       "2           378  \n",
       "3           274  \n",
       "4             0  "
      ]
     },
     "execution_count": 3,
     "metadata": {},
     "output_type": "execute_result"
    }
   ],
   "source": [
    "df = pd.read_json(settings.PROCESSED_DATASET_PATH, lines=True)\n",
    "df.head()"
   ]
  },
  {
   "cell_type": "code",
   "execution_count": 4,
   "metadata": {},
   "outputs": [
    {
     "data": {
      "text/plain": [
       "300"
      ]
     },
     "execution_count": 4,
     "metadata": {},
     "output_type": "execute_result"
    }
   ],
   "source": [
    "len(df)"
   ]
  },
  {
   "cell_type": "code",
   "execution_count": 5,
   "metadata": {},
   "outputs": [],
   "source": [
    "source.put([df])\n",
    "\n",
    "pd.set_option(\"display.max_colwidth\", 500)"
   ]
  },
  {
   "cell_type": "markdown",
   "metadata": {},
   "source": [
    "## Query books using filters & natural queries"
   ]
  },
  {
   "cell_type": "code",
   "execution_count": 6,
   "metadata": {},
   "outputs": [
    {
     "data": {
      "text/plain": [
       "{'description_weight': 1.0,\n",
       " 'review_rating_maximizer_weight': 0.0,\n",
       " 'price_minimizer_weights': 0.0,\n",
       " 'limit': 3,\n",
       " 'natural_query': 'books with a price lower than 100',\n",
       " 'filter_by_type': 'book',\n",
       " 'query_description': 'books',\n",
       " 'filter_by_cateogry': None,\n",
       " 'review_rating_bigger_than': None,\n",
       " 'price_smaller_than': 100.0,\n",
       " 'radius_param': None,\n",
       " 'space_weight_CategoricalSimilaritySpace_7262928026088864445_param': 0.0,\n",
       " 'description_similar_clause_weight': 1.0}"
      ]
     },
     "execution_count": 6,
     "metadata": {},
     "output_type": "execute_result"
    }
   ],
   "source": [
    "results = app.query(\n",
    "    query.filter_query,\n",
    "    natural_query=\"books with a price lower than 100\",\n",
    "    limit=3,\n",
    ")\n",
    "results.knn_params"
   ]
  },
  {
   "cell_type": "code",
   "execution_count": 7,
   "metadata": {},
   "outputs": [
    {
     "data": {
      "text/html": [
       "<div>\n",
       "<style scoped>\n",
       "    .dataframe tbody tr th:only-of-type {\n",
       "        vertical-align: middle;\n",
       "    }\n",
       "\n",
       "    .dataframe tbody tr th {\n",
       "        vertical-align: top;\n",
       "    }\n",
       "\n",
       "    .dataframe thead th {\n",
       "        text-align: right;\n",
       "    }\n",
       "</style>\n",
       "<table border=\"1\" class=\"dataframe\">\n",
       "  <thead>\n",
       "    <tr style=\"text-align: right;\">\n",
       "      <th></th>\n",
       "      <th>type</th>\n",
       "      <th>category</th>\n",
       "      <th>title</th>\n",
       "      <th>description</th>\n",
       "      <th>review_rating</th>\n",
       "      <th>review_count</th>\n",
       "      <th>price</th>\n",
       "      <th>id</th>\n",
       "      <th>similarity_score</th>\n",
       "      <th>rank</th>\n",
       "    </tr>\n",
       "  </thead>\n",
       "  <tbody>\n",
       "    <tr>\n",
       "      <th>0</th>\n",
       "      <td>book</td>\n",
       "      <td>[Books]</td>\n",
       "      <td>100 Days to Brave: Devotions for Unlocking Your Most Courageous Self</td>\n",
       "      <td>nan</td>\n",
       "      <td>4.7</td>\n",
       "      <td>0</td>\n",
       "      <td>9.01</td>\n",
       "      <td>031008962X</td>\n",
       "      <td>0.532175</td>\n",
       "      <td>0</td>\n",
       "    </tr>\n",
       "    <tr>\n",
       "      <th>1</th>\n",
       "      <td>book</td>\n",
       "      <td>[Books]</td>\n",
       "      <td>Stables: Beautiful Paddocks, Horse Barns, and Tack Rooms</td>\n",
       "      <td>nan</td>\n",
       "      <td>4.7</td>\n",
       "      <td>100</td>\n",
       "      <td>53.10</td>\n",
       "      <td>0847833143</td>\n",
       "      <td>0.532175</td>\n",
       "      <td>1</td>\n",
       "    </tr>\n",
       "    <tr>\n",
       "      <th>2</th>\n",
       "      <td>book</td>\n",
       "      <td>[Books]</td>\n",
       "      <td>Spectrum Algebra 1 Workbook, Grades 6-8 Math Covering Algebra Equations, Fractions, Inequalities, Graphing, Rational Numbers, Classroom or Homeschool Curriculum</td>\n",
       "      <td>nan</td>\n",
       "      <td>4.6</td>\n",
       "      <td>0</td>\n",
       "      <td>7.86</td>\n",
       "      <td>1483816648</td>\n",
       "      <td>0.532175</td>\n",
       "      <td>2</td>\n",
       "    </tr>\n",
       "  </tbody>\n",
       "</table>\n",
       "</div>"
      ],
      "text/plain": [
       "   type category  \\\n",
       "0  book  [Books]   \n",
       "1  book  [Books]   \n",
       "2  book  [Books]   \n",
       "\n",
       "                                                                                                                                                              title  \\\n",
       "0                                                                                              100 Days to Brave: Devotions for Unlocking Your Most Courageous Self   \n",
       "1                                                                                                          Stables: Beautiful Paddocks, Horse Barns, and Tack Rooms   \n",
       "2  Spectrum Algebra 1 Workbook, Grades 6-8 Math Covering Algebra Equations, Fractions, Inequalities, Graphing, Rational Numbers, Classroom or Homeschool Curriculum   \n",
       "\n",
       "  description  review_rating  review_count  price          id  \\\n",
       "0         nan            4.7             0   9.01  031008962X   \n",
       "1         nan            4.7           100  53.10  0847833143   \n",
       "2         nan            4.6             0   7.86  1483816648   \n",
       "\n",
       "   similarity_score  rank  \n",
       "0          0.532175     0  \n",
       "1          0.532175     1  \n",
       "2          0.532175     2  "
      ]
     },
     "execution_count": 7,
     "metadata": {},
     "output_type": "execute_result"
    }
   ],
   "source": [
    "results.to_pandas()"
   ]
  },
  {
   "cell_type": "code",
   "execution_count": 8,
   "metadata": {},
   "outputs": [
    {
     "data": {
      "text/plain": [
       "{'description_weight': 1.0,\n",
       " 'review_rating_maximizer_weight': 0.0,\n",
       " 'price_minimizer_weights': 0.0,\n",
       " 'limit': 3,\n",
       " 'natural_query': 'books with a price lower than 100 and a rating bigger than 4',\n",
       " 'filter_by_type': 'book',\n",
       " 'query_description': 'books',\n",
       " 'filter_by_cateogry': None,\n",
       " 'review_rating_bigger_than': 4.0,\n",
       " 'price_smaller_than': 100.0,\n",
       " 'radius_param': None,\n",
       " 'space_weight_CategoricalSimilaritySpace_7262928026088864445_param': 0.0,\n",
       " 'description_similar_clause_weight': 1.0}"
      ]
     },
     "execution_count": 8,
     "metadata": {},
     "output_type": "execute_result"
    }
   ],
   "source": [
    "results = app.query(\n",
    "    query.filter_query,\n",
    "    natural_query=\"books with a price lower than 100 and a rating bigger than 4\",\n",
    "    limit=3,\n",
    ")\n",
    "results.knn_params"
   ]
  },
  {
   "cell_type": "code",
   "execution_count": 9,
   "metadata": {},
   "outputs": [
    {
     "data": {
      "text/html": [
       "<div>\n",
       "<style scoped>\n",
       "    .dataframe tbody tr th:only-of-type {\n",
       "        vertical-align: middle;\n",
       "    }\n",
       "\n",
       "    .dataframe tbody tr th {\n",
       "        vertical-align: top;\n",
       "    }\n",
       "\n",
       "    .dataframe thead th {\n",
       "        text-align: right;\n",
       "    }\n",
       "</style>\n",
       "<table border=\"1\" class=\"dataframe\">\n",
       "  <thead>\n",
       "    <tr style=\"text-align: right;\">\n",
       "      <th></th>\n",
       "      <th>type</th>\n",
       "      <th>category</th>\n",
       "      <th>title</th>\n",
       "      <th>description</th>\n",
       "      <th>review_rating</th>\n",
       "      <th>review_count</th>\n",
       "      <th>price</th>\n",
       "      <th>id</th>\n",
       "      <th>similarity_score</th>\n",
       "      <th>rank</th>\n",
       "    </tr>\n",
       "  </thead>\n",
       "  <tbody>\n",
       "    <tr>\n",
       "      <th>0</th>\n",
       "      <td>book</td>\n",
       "      <td>[Books]</td>\n",
       "      <td>100 Days to Brave: Devotions for Unlocking Your Most Courageous Self</td>\n",
       "      <td>nan</td>\n",
       "      <td>4.7</td>\n",
       "      <td>0</td>\n",
       "      <td>9.01</td>\n",
       "      <td>031008962X</td>\n",
       "      <td>0.532175</td>\n",
       "      <td>0</td>\n",
       "    </tr>\n",
       "    <tr>\n",
       "      <th>1</th>\n",
       "      <td>book</td>\n",
       "      <td>[Books]</td>\n",
       "      <td>Stables: Beautiful Paddocks, Horse Barns, and Tack Rooms</td>\n",
       "      <td>nan</td>\n",
       "      <td>4.7</td>\n",
       "      <td>100</td>\n",
       "      <td>53.10</td>\n",
       "      <td>0847833143</td>\n",
       "      <td>0.532175</td>\n",
       "      <td>1</td>\n",
       "    </tr>\n",
       "    <tr>\n",
       "      <th>2</th>\n",
       "      <td>book</td>\n",
       "      <td>[Books]</td>\n",
       "      <td>Spectrum Algebra 1 Workbook, Grades 6-8 Math Covering Algebra Equations, Fractions, Inequalities, Graphing, Rational Numbers, Classroom or Homeschool Curriculum</td>\n",
       "      <td>nan</td>\n",
       "      <td>4.6</td>\n",
       "      <td>0</td>\n",
       "      <td>7.86</td>\n",
       "      <td>1483816648</td>\n",
       "      <td>0.532175</td>\n",
       "      <td>2</td>\n",
       "    </tr>\n",
       "  </tbody>\n",
       "</table>\n",
       "</div>"
      ],
      "text/plain": [
       "   type category  \\\n",
       "0  book  [Books]   \n",
       "1  book  [Books]   \n",
       "2  book  [Books]   \n",
       "\n",
       "                                                                                                                                                              title  \\\n",
       "0                                                                                              100 Days to Brave: Devotions for Unlocking Your Most Courageous Self   \n",
       "1                                                                                                          Stables: Beautiful Paddocks, Horse Barns, and Tack Rooms   \n",
       "2  Spectrum Algebra 1 Workbook, Grades 6-8 Math Covering Algebra Equations, Fractions, Inequalities, Graphing, Rational Numbers, Classroom or Homeschool Curriculum   \n",
       "\n",
       "  description  review_rating  review_count  price          id  \\\n",
       "0         nan            4.7             0   9.01  031008962X   \n",
       "1         nan            4.7           100  53.10  0847833143   \n",
       "2         nan            4.6             0   7.86  1483816648   \n",
       "\n",
       "   similarity_score  rank  \n",
       "0          0.532175     0  \n",
       "1          0.532175     1  \n",
       "2          0.532175     2  "
      ]
     },
     "execution_count": 9,
     "metadata": {},
     "output_type": "execute_result"
    }
   ],
   "source": [
    "results.to_pandas()"
   ]
  },
  {
   "cell_type": "markdown",
   "metadata": {},
   "source": [
    "📚 More on how [Superlinked natural queries (NLQ) works](https://rebrand.ly/superlinked-nlq-notebook)."
   ]
  },
  {
   "cell_type": "markdown",
   "metadata": {},
   "source": [
    "## Query books using tabular semantic search & natural queries"
   ]
  },
  {
   "cell_type": "code",
   "execution_count": 10,
   "metadata": {},
   "outputs": [
    {
     "data": {
      "text/plain": [
       "{'description_weight': 0.0,\n",
       " 'review_rating_maximizer_weight': 0.0,\n",
       " 'price_minimizer_weights': 1.0,\n",
       " 'limit': 3,\n",
       " 'natural_query': 'books with a price lower than 100',\n",
       " 'filter_by_type': 'book',\n",
       " 'query_description': 'books',\n",
       " 'query_price': 100.0,\n",
       " 'query_review_rating': 0.0,\n",
       " 'radius_param': None,\n",
       " 'space_weight_CategoricalSimilaritySpace_7262928026088864445_param': 0.0,\n",
       " 'description_similar_clause_weight': 1.0,\n",
       " 'price_similar_clause_weight': 1.0,\n",
       " 'review_rating_similar_clause_weight': 1.0}"
      ]
     },
     "execution_count": 10,
     "metadata": {},
     "output_type": "execute_result"
    }
   ],
   "source": [
    "results = app.query(\n",
    "    query.semantic_query,\n",
    "    natural_query=\"books with a price lower than 100\",\n",
    "    limit=3,\n",
    ")\n",
    "results.knn_params"
   ]
  },
  {
   "cell_type": "code",
   "execution_count": 11,
   "metadata": {},
   "outputs": [
    {
     "data": {
      "text/html": [
       "<div>\n",
       "<style scoped>\n",
       "    .dataframe tbody tr th:only-of-type {\n",
       "        vertical-align: middle;\n",
       "    }\n",
       "\n",
       "    .dataframe tbody tr th {\n",
       "        vertical-align: top;\n",
       "    }\n",
       "\n",
       "    .dataframe thead th {\n",
       "        text-align: right;\n",
       "    }\n",
       "</style>\n",
       "<table border=\"1\" class=\"dataframe\">\n",
       "  <thead>\n",
       "    <tr style=\"text-align: right;\">\n",
       "      <th></th>\n",
       "      <th>type</th>\n",
       "      <th>category</th>\n",
       "      <th>title</th>\n",
       "      <th>description</th>\n",
       "      <th>review_rating</th>\n",
       "      <th>review_count</th>\n",
       "      <th>price</th>\n",
       "      <th>id</th>\n",
       "      <th>similarity_score</th>\n",
       "      <th>rank</th>\n",
       "    </tr>\n",
       "  </thead>\n",
       "  <tbody>\n",
       "    <tr>\n",
       "      <th>0</th>\n",
       "      <td>book</td>\n",
       "      <td>[Books]</td>\n",
       "      <td>Spectrum Algebra 1 Workbook, Grades 6-8 Math Covering Algebra Equations, Fractions, Inequalities, Graphing, Rational Numbers, Classroom or Homeschool Curriculum</td>\n",
       "      <td>nan</td>\n",
       "      <td>4.6</td>\n",
       "      <td>0</td>\n",
       "      <td>7.86</td>\n",
       "      <td>1483816648</td>\n",
       "      <td>0.999924</td>\n",
       "      <td>0</td>\n",
       "    </tr>\n",
       "    <tr>\n",
       "      <th>1</th>\n",
       "      <td>book</td>\n",
       "      <td>[Books]</td>\n",
       "      <td>100 Days to Brave: Devotions for Unlocking Your Most Courageous Self</td>\n",
       "      <td>nan</td>\n",
       "      <td>4.7</td>\n",
       "      <td>0</td>\n",
       "      <td>9.01</td>\n",
       "      <td>031008962X</td>\n",
       "      <td>0.999900</td>\n",
       "      <td>1</td>\n",
       "    </tr>\n",
       "    <tr>\n",
       "      <th>2</th>\n",
       "      <td>book</td>\n",
       "      <td>[Books]</td>\n",
       "      <td>All Aboard! New York: A City Primer</td>\n",
       "      <td>nan</td>\n",
       "      <td>4.6</td>\n",
       "      <td>74</td>\n",
       "      <td>9.99</td>\n",
       "      <td>1423640748</td>\n",
       "      <td>0.999877</td>\n",
       "      <td>2</td>\n",
       "    </tr>\n",
       "  </tbody>\n",
       "</table>\n",
       "</div>"
      ],
      "text/plain": [
       "   type category  \\\n",
       "0  book  [Books]   \n",
       "1  book  [Books]   \n",
       "2  book  [Books]   \n",
       "\n",
       "                                                                                                                                                              title  \\\n",
       "0  Spectrum Algebra 1 Workbook, Grades 6-8 Math Covering Algebra Equations, Fractions, Inequalities, Graphing, Rational Numbers, Classroom or Homeschool Curriculum   \n",
       "1                                                                                              100 Days to Brave: Devotions for Unlocking Your Most Courageous Self   \n",
       "2                                                                                                                               All Aboard! New York: A City Primer   \n",
       "\n",
       "  description  review_rating  review_count  price          id  \\\n",
       "0         nan            4.6             0   7.86  1483816648   \n",
       "1         nan            4.7             0   9.01  031008962X   \n",
       "2         nan            4.6            74   9.99  1423640748   \n",
       "\n",
       "   similarity_score  rank  \n",
       "0          0.999924     0  \n",
       "1          0.999900     1  \n",
       "2          0.999877     2  "
      ]
     },
     "execution_count": 11,
     "metadata": {},
     "output_type": "execute_result"
    }
   ],
   "source": [
    "results.to_pandas()"
   ]
  },
  {
   "cell_type": "code",
   "execution_count": 12,
   "metadata": {},
   "outputs": [
    {
     "data": {
      "text/plain": [
       "{'description_weight': 0.0,\n",
       " 'review_rating_maximizer_weight': 1.0,\n",
       " 'price_minimizer_weights': 1.0,\n",
       " 'limit': 3,\n",
       " 'natural_query': 'books with a price lower than 100 and a rating bigger than 4',\n",
       " 'filter_by_type': 'book',\n",
       " 'query_description': 'books',\n",
       " 'query_price': 100.0,\n",
       " 'query_review_rating': 4.0,\n",
       " 'radius_param': None,\n",
       " 'space_weight_CategoricalSimilaritySpace_7262928026088864445_param': 0.0,\n",
       " 'description_similar_clause_weight': 1.0,\n",
       " 'price_similar_clause_weight': 1.0,\n",
       " 'review_rating_similar_clause_weight': 1.0}"
      ]
     },
     "execution_count": 12,
     "metadata": {},
     "output_type": "execute_result"
    }
   ],
   "source": [
    "results = app.query(\n",
    "    query.semantic_query,\n",
    "    natural_query=\"books with a price lower than 100 and a rating bigger than 4\",\n",
    "    limit=3,\n",
    ")\n",
    "results.knn_params"
   ]
  },
  {
   "cell_type": "code",
   "execution_count": 13,
   "metadata": {},
   "outputs": [
    {
     "data": {
      "text/html": [
       "<div>\n",
       "<style scoped>\n",
       "    .dataframe tbody tr th:only-of-type {\n",
       "        vertical-align: middle;\n",
       "    }\n",
       "\n",
       "    .dataframe tbody tr th {\n",
       "        vertical-align: top;\n",
       "    }\n",
       "\n",
       "    .dataframe thead th {\n",
       "        text-align: right;\n",
       "    }\n",
       "</style>\n",
       "<table border=\"1\" class=\"dataframe\">\n",
       "  <thead>\n",
       "    <tr style=\"text-align: right;\">\n",
       "      <th></th>\n",
       "      <th>type</th>\n",
       "      <th>category</th>\n",
       "      <th>title</th>\n",
       "      <th>description</th>\n",
       "      <th>review_rating</th>\n",
       "      <th>review_count</th>\n",
       "      <th>price</th>\n",
       "      <th>id</th>\n",
       "      <th>similarity_score</th>\n",
       "      <th>rank</th>\n",
       "    </tr>\n",
       "  </thead>\n",
       "  <tbody>\n",
       "    <tr>\n",
       "      <th>0</th>\n",
       "      <td>book</td>\n",
       "      <td>[Books]</td>\n",
       "      <td>100 Days to Brave: Devotions for Unlocking Your Most Courageous Self</td>\n",
       "      <td>nan</td>\n",
       "      <td>4.7</td>\n",
       "      <td>0</td>\n",
       "      <td>9.01</td>\n",
       "      <td>031008962X</td>\n",
       "      <td>0.998409</td>\n",
       "      <td>0</td>\n",
       "    </tr>\n",
       "    <tr>\n",
       "      <th>1</th>\n",
       "      <td>book</td>\n",
       "      <td>[Books]</td>\n",
       "      <td>The Mindful Dragon: A Dragon Book about Mindfulness. Teach Your Dragon To Be Mindful. A Cute Children Story to Teach Kids about Mindfulness, Focus and Peace. (My Dragon Books)</td>\n",
       "      <td>nan</td>\n",
       "      <td>4.7</td>\n",
       "      <td>623</td>\n",
       "      <td>11.69</td>\n",
       "      <td>1948040107</td>\n",
       "      <td>0.998374</td>\n",
       "      <td>1</td>\n",
       "    </tr>\n",
       "    <tr>\n",
       "      <th>2</th>\n",
       "      <td>book</td>\n",
       "      <td>[Books]</td>\n",
       "      <td>Build Your Running Body (A Total-Body Fitness Plan for All Distance Runners, from Milers to Ultramarathoners—Run Farther, Faster, and Injury-Free)</td>\n",
       "      <td>nan</td>\n",
       "      <td>4.7</td>\n",
       "      <td>573</td>\n",
       "      <td>13.49</td>\n",
       "      <td>161519102X</td>\n",
       "      <td>0.998346</td>\n",
       "      <td>2</td>\n",
       "    </tr>\n",
       "  </tbody>\n",
       "</table>\n",
       "</div>"
      ],
      "text/plain": [
       "   type category  \\\n",
       "0  book  [Books]   \n",
       "1  book  [Books]   \n",
       "2  book  [Books]   \n",
       "\n",
       "                                                                                                                                                                             title  \\\n",
       "0                                                                                                             100 Days to Brave: Devotions for Unlocking Your Most Courageous Self   \n",
       "1  The Mindful Dragon: A Dragon Book about Mindfulness. Teach Your Dragon To Be Mindful. A Cute Children Story to Teach Kids about Mindfulness, Focus and Peace. (My Dragon Books)   \n",
       "2                               Build Your Running Body (A Total-Body Fitness Plan for All Distance Runners, from Milers to Ultramarathoners—Run Farther, Faster, and Injury-Free)   \n",
       "\n",
       "  description  review_rating  review_count  price          id  \\\n",
       "0         nan            4.7             0   9.01  031008962X   \n",
       "1         nan            4.7           623  11.69  1948040107   \n",
       "2         nan            4.7           573  13.49  161519102X   \n",
       "\n",
       "   similarity_score  rank  \n",
       "0          0.998409     0  \n",
       "1          0.998374     1  \n",
       "2          0.998346     2  "
      ]
     },
     "execution_count": 13,
     "metadata": {},
     "output_type": "execute_result"
    }
   ],
   "source": [
    "results.to_pandas()"
   ]
  },
  {
   "cell_type": "code",
   "execution_count": 14,
   "metadata": {},
   "outputs": [
    {
     "data": {
      "text/plain": [
       "{'description_weight': 1.0,\n",
       " 'review_rating_maximizer_weight': 1.0,\n",
       " 'price_minimizer_weights': 0.5,\n",
       " 'limit': 3,\n",
       " 'natural_query': 'Return the top 5 books (along with their review count and price) with the highest reviews rating.',\n",
       " 'filter_by_type': 'book',\n",
       " 'query_description': 'books',\n",
       " 'query_price': 0.0,\n",
       " 'query_review_rating': 5.0,\n",
       " 'radius_param': None,\n",
       " 'space_weight_CategoricalSimilaritySpace_7262928026088864445_param': 0.0,\n",
       " 'description_similar_clause_weight': 1.0,\n",
       " 'price_similar_clause_weight': 1.0,\n",
       " 'review_rating_similar_clause_weight': 1.0}"
      ]
     },
     "execution_count": 14,
     "metadata": {},
     "output_type": "execute_result"
    }
   ],
   "source": [
    "results = app.query(\n",
    "    query.semantic_query,\n",
    "    natural_query=\"Return the top 5 books (along with their review count and price) with the highest reviews rating.\",\n",
    "    limit=3,\n",
    ")\n",
    "results.knn_params"
   ]
  },
  {
   "cell_type": "code",
   "execution_count": 15,
   "metadata": {},
   "outputs": [
    {
     "data": {
      "text/html": [
       "<div>\n",
       "<style scoped>\n",
       "    .dataframe tbody tr th:only-of-type {\n",
       "        vertical-align: middle;\n",
       "    }\n",
       "\n",
       "    .dataframe tbody tr th {\n",
       "        vertical-align: top;\n",
       "    }\n",
       "\n",
       "    .dataframe thead th {\n",
       "        text-align: right;\n",
       "    }\n",
       "</style>\n",
       "<table border=\"1\" class=\"dataframe\">\n",
       "  <thead>\n",
       "    <tr style=\"text-align: right;\">\n",
       "      <th></th>\n",
       "      <th>type</th>\n",
       "      <th>category</th>\n",
       "      <th>title</th>\n",
       "      <th>description</th>\n",
       "      <th>review_rating</th>\n",
       "      <th>review_count</th>\n",
       "      <th>price</th>\n",
       "      <th>id</th>\n",
       "      <th>similarity_score</th>\n",
       "      <th>rank</th>\n",
       "    </tr>\n",
       "  </thead>\n",
       "  <tbody>\n",
       "    <tr>\n",
       "      <th>0</th>\n",
       "      <td>book</td>\n",
       "      <td>[Books]</td>\n",
       "      <td>100 Days to Brave: Devotions for Unlocking Your Most Courageous Self</td>\n",
       "      <td>nan</td>\n",
       "      <td>4.7</td>\n",
       "      <td>0</td>\n",
       "      <td>9.01</td>\n",
       "      <td>031008962X</td>\n",
       "      <td>0.780979</td>\n",
       "      <td>0</td>\n",
       "    </tr>\n",
       "    <tr>\n",
       "      <th>1</th>\n",
       "      <td>book</td>\n",
       "      <td>[Books]</td>\n",
       "      <td>The Mindful Dragon: A Dragon Book about Mindfulness. Teach Your Dragon To Be Mindful. A Cute Children Story to Teach Kids about Mindfulness, Focus and Peace. (My Dragon Books)</td>\n",
       "      <td>nan</td>\n",
       "      <td>4.7</td>\n",
       "      <td>623</td>\n",
       "      <td>11.69</td>\n",
       "      <td>1948040107</td>\n",
       "      <td>0.780966</td>\n",
       "      <td>1</td>\n",
       "    </tr>\n",
       "    <tr>\n",
       "      <th>2</th>\n",
       "      <td>book</td>\n",
       "      <td>[Books]</td>\n",
       "      <td>Build Your Running Body (A Total-Body Fitness Plan for All Distance Runners, from Milers to Ultramarathoners—Run Farther, Faster, and Injury-Free)</td>\n",
       "      <td>nan</td>\n",
       "      <td>4.7</td>\n",
       "      <td>573</td>\n",
       "      <td>13.49</td>\n",
       "      <td>161519102X</td>\n",
       "      <td>0.780955</td>\n",
       "      <td>2</td>\n",
       "    </tr>\n",
       "  </tbody>\n",
       "</table>\n",
       "</div>"
      ],
      "text/plain": [
       "   type category  \\\n",
       "0  book  [Books]   \n",
       "1  book  [Books]   \n",
       "2  book  [Books]   \n",
       "\n",
       "                                                                                                                                                                             title  \\\n",
       "0                                                                                                             100 Days to Brave: Devotions for Unlocking Your Most Courageous Self   \n",
       "1  The Mindful Dragon: A Dragon Book about Mindfulness. Teach Your Dragon To Be Mindful. A Cute Children Story to Teach Kids about Mindfulness, Focus and Peace. (My Dragon Books)   \n",
       "2                               Build Your Running Body (A Total-Body Fitness Plan for All Distance Runners, from Milers to Ultramarathoners—Run Farther, Faster, and Injury-Free)   \n",
       "\n",
       "  description  review_rating  review_count  price          id  \\\n",
       "0         nan            4.7             0   9.01  031008962X   \n",
       "1         nan            4.7           623  11.69  1948040107   \n",
       "2         nan            4.7           573  13.49  161519102X   \n",
       "\n",
       "   similarity_score  rank  \n",
       "0          0.780979     0  \n",
       "1          0.780966     1  \n",
       "2          0.780955     2  "
      ]
     },
     "execution_count": 15,
     "metadata": {},
     "output_type": "execute_result"
    }
   ],
   "source": [
    "results.to_pandas()"
   ]
  },
  {
   "cell_type": "code",
   "execution_count": 16,
   "metadata": {},
   "outputs": [
    {
     "data": {
      "text/plain": [
       "{'description_weight': 1.0,\n",
       " 'review_rating_maximizer_weight': 1.0,\n",
       " 'price_minimizer_weights': 1.0,\n",
       " 'limit': 3,\n",
       " 'natural_query': 'books on psychology with a price lower than 100 and a rating bigger than 4',\n",
       " 'filter_by_type': 'book',\n",
       " 'query_description': 'psychology',\n",
       " 'query_price': 100.0,\n",
       " 'query_review_rating': 4.0,\n",
       " 'radius_param': None,\n",
       " 'space_weight_CategoricalSimilaritySpace_7262928026088864445_param': 0.0,\n",
       " 'description_similar_clause_weight': 1.0,\n",
       " 'price_similar_clause_weight': 1.0,\n",
       " 'review_rating_similar_clause_weight': 1.0}"
      ]
     },
     "execution_count": 16,
     "metadata": {},
     "output_type": "execute_result"
    }
   ],
   "source": [
    "results = app.query(\n",
    "    query.semantic_query,\n",
    "    natural_query=\"books on psychology with a price lower than 100 and a rating bigger than 4\",\n",
    "    limit=3,\n",
    ")\n",
    "results.knn_params"
   ]
  },
  {
   "cell_type": "code",
   "execution_count": 17,
   "metadata": {},
   "outputs": [
    {
     "data": {
      "text/html": [
       "<div>\n",
       "<style scoped>\n",
       "    .dataframe tbody tr th:only-of-type {\n",
       "        vertical-align: middle;\n",
       "    }\n",
       "\n",
       "    .dataframe tbody tr th {\n",
       "        vertical-align: top;\n",
       "    }\n",
       "\n",
       "    .dataframe thead th {\n",
       "        text-align: right;\n",
       "    }\n",
       "</style>\n",
       "<table border=\"1\" class=\"dataframe\">\n",
       "  <thead>\n",
       "    <tr style=\"text-align: right;\">\n",
       "      <th></th>\n",
       "      <th>type</th>\n",
       "      <th>category</th>\n",
       "      <th>title</th>\n",
       "      <th>description</th>\n",
       "      <th>review_rating</th>\n",
       "      <th>review_count</th>\n",
       "      <th>price</th>\n",
       "      <th>id</th>\n",
       "      <th>similarity_score</th>\n",
       "      <th>rank</th>\n",
       "    </tr>\n",
       "  </thead>\n",
       "  <tbody>\n",
       "    <tr>\n",
       "      <th>0</th>\n",
       "      <td>book</td>\n",
       "      <td>[Books]</td>\n",
       "      <td>100 Days to Brave: Devotions for Unlocking Your Most Courageous Self</td>\n",
       "      <td>nan</td>\n",
       "      <td>4.7</td>\n",
       "      <td>0</td>\n",
       "      <td>9.01</td>\n",
       "      <td>031008962X</td>\n",
       "      <td>0.841239</td>\n",
       "      <td>0</td>\n",
       "    </tr>\n",
       "    <tr>\n",
       "      <th>1</th>\n",
       "      <td>book</td>\n",
       "      <td>[Books]</td>\n",
       "      <td>The Mindful Dragon: A Dragon Book about Mindfulness. Teach Your Dragon To Be Mindful. A Cute Children Story to Teach Kids about Mindfulness, Focus and Peace. (My Dragon Books)</td>\n",
       "      <td>nan</td>\n",
       "      <td>4.7</td>\n",
       "      <td>623</td>\n",
       "      <td>11.69</td>\n",
       "      <td>1948040107</td>\n",
       "      <td>0.841216</td>\n",
       "      <td>1</td>\n",
       "    </tr>\n",
       "    <tr>\n",
       "      <th>2</th>\n",
       "      <td>book</td>\n",
       "      <td>[Books]</td>\n",
       "      <td>Build Your Running Body (A Total-Body Fitness Plan for All Distance Runners, from Milers to Ultramarathoners—Run Farther, Faster, and Injury-Free)</td>\n",
       "      <td>nan</td>\n",
       "      <td>4.7</td>\n",
       "      <td>573</td>\n",
       "      <td>13.49</td>\n",
       "      <td>161519102X</td>\n",
       "      <td>0.841198</td>\n",
       "      <td>2</td>\n",
       "    </tr>\n",
       "  </tbody>\n",
       "</table>\n",
       "</div>"
      ],
      "text/plain": [
       "   type category  \\\n",
       "0  book  [Books]   \n",
       "1  book  [Books]   \n",
       "2  book  [Books]   \n",
       "\n",
       "                                                                                                                                                                             title  \\\n",
       "0                                                                                                             100 Days to Brave: Devotions for Unlocking Your Most Courageous Self   \n",
       "1  The Mindful Dragon: A Dragon Book about Mindfulness. Teach Your Dragon To Be Mindful. A Cute Children Story to Teach Kids about Mindfulness, Focus and Peace. (My Dragon Books)   \n",
       "2                               Build Your Running Body (A Total-Body Fitness Plan for All Distance Runners, from Milers to Ultramarathoners—Run Farther, Faster, and Injury-Free)   \n",
       "\n",
       "  description  review_rating  review_count  price          id  \\\n",
       "0         nan            4.7             0   9.01  031008962X   \n",
       "1         nan            4.7           623  11.69  1948040107   \n",
       "2         nan            4.7           573  13.49  161519102X   \n",
       "\n",
       "   similarity_score  rank  \n",
       "0          0.841239     0  \n",
       "1          0.841216     1  \n",
       "2          0.841198     2  "
      ]
     },
     "execution_count": 17,
     "metadata": {},
     "output_type": "execute_result"
    }
   ],
   "source": [
    "results.to_pandas()"
   ]
  },
  {
   "cell_type": "markdown",
   "metadata": {},
   "source": [
    "📚 More on how [Superlinked natural queries (NLQ) works](https://rebrand.ly/superlinked-nlq-notebook)."
   ]
  },
  {
   "cell_type": "markdown",
   "metadata": {},
   "source": [
    "## Find similar books based on a given product"
   ]
  },
  {
   "cell_type": "code",
   "execution_count": 18,
   "metadata": {},
   "outputs": [
    {
     "data": {
      "text/html": [
       "<div>\n",
       "<style scoped>\n",
       "    .dataframe tbody tr th:only-of-type {\n",
       "        vertical-align: middle;\n",
       "    }\n",
       "\n",
       "    .dataframe tbody tr th {\n",
       "        vertical-align: top;\n",
       "    }\n",
       "\n",
       "    .dataframe thead th {\n",
       "        text-align: right;\n",
       "    }\n",
       "</style>\n",
       "<table border=\"1\" class=\"dataframe\">\n",
       "  <thead>\n",
       "    <tr style=\"text-align: right;\">\n",
       "      <th></th>\n",
       "      <th>asin</th>\n",
       "      <th>type</th>\n",
       "      <th>category</th>\n",
       "      <th>title</th>\n",
       "      <th>description</th>\n",
       "      <th>price</th>\n",
       "      <th>review_rating</th>\n",
       "      <th>review_count</th>\n",
       "    </tr>\n",
       "  </thead>\n",
       "  <tbody>\n",
       "    <tr>\n",
       "      <th>0</th>\n",
       "      <td>B07WP4RXHY</td>\n",
       "      <td>product</td>\n",
       "      <td>[Tools &amp; Home Improvement]</td>\n",
       "      <td>YUEPIN U-Tube Clamp 304 Stainless Steel Hose Pipe Cable Strap Clips With Rubber Cushioned (1-21/32\"(42mm)-10pcs)</td>\n",
       "      <td>Product Description Specification: Material: 304 Stainless Steel,100% New Rubber Color: Silver Shape: U Shape Quantity: 10 Pieces Note: Note: Since the size above is measured by hand, the size of the actual item you received could be slightly different from the size above. Product Description Specification: Material: 304 Stainless Steel,100% New Rubber Color: Silver Shape: U Shape Quantity: 10 Pieces Note: Note: Since the size above is measured by hand, the size of the actual item you receiv...</td>\n",
       "      <td>9.99</td>\n",
       "      <td>4.7</td>\n",
       "      <td>54</td>\n",
       "    </tr>\n",
       "  </tbody>\n",
       "</table>\n",
       "</div>"
      ],
      "text/plain": [
       "         asin     type                    category  \\\n",
       "0  B07WP4RXHY  product  [Tools & Home Improvement]   \n",
       "\n",
       "                                                                                                              title  \\\n",
       "0  YUEPIN U-Tube Clamp 304 Stainless Steel Hose Pipe Cable Strap Clips With Rubber Cushioned (1-21/32\"(42mm)-10pcs)   \n",
       "\n",
       "                                                                                                                                                                                                                                                                                                                                                                                                                                                                                                           description  \\\n",
       "0  Product Description Specification: Material: 304 Stainless Steel,100% New Rubber Color: Silver Shape: U Shape Quantity: 10 Pieces Note: Note: Since the size above is measured by hand, the size of the actual item you received could be slightly different from the size above. Product Description Specification: Material: 304 Stainless Steel,100% New Rubber Color: Silver Shape: U Shape Quantity: 10 Pieces Note: Note: Since the size above is measured by hand, the size of the actual item you receiv...   \n",
       "\n",
       "   price  review_rating  review_count  \n",
       "0   9.99            4.7            54  "
      ]
     },
     "execution_count": 18,
     "metadata": {},
     "output_type": "execute_result"
    }
   ],
   "source": [
    "df[df[\"asin\"] == \"B07WP4RXHY\"]"
   ]
  },
  {
   "cell_type": "code",
   "execution_count": 19,
   "metadata": {},
   "outputs": [
    {
     "data": {
      "text/plain": [
       "{'description_weight': 1.0,\n",
       " 'review_rating_maximizer_weight': 1.0,\n",
       " 'price_minimizer_weights': 1.0,\n",
       " 'limit': 3,\n",
       " 'natural_query': 'similar books to B07WP4RXHY with a price lower than 100 and a rating bigger than 4',\n",
       " 'filter_by_type': 'book',\n",
       " 'query_description': 'similar to B07WP4RXHY',\n",
       " 'query_price': 100.0,\n",
       " 'query_review_rating': 4.0,\n",
       " 'product_id': 'B07WP4RXHY',\n",
       " 'radius_param': None,\n",
       " 'space_weight_CategoricalSimilaritySpace_7262928026088864445_param': 1.0,\n",
       " 'description_similar_clause_weight': 1.0,\n",
       " 'price_similar_clause_weight': 1.0,\n",
       " 'review_rating_similar_clause_weight': 1.0,\n",
       " 'with_vector_id_weight_param': 1.0}"
      ]
     },
     "execution_count": 19,
     "metadata": {},
     "output_type": "execute_result"
    }
   ],
   "source": [
    "results = app.query(\n",
    "    query.similar_items_query,\n",
    "    natural_query=\"similar books to B07WP4RXHY with a price lower than 100 and a rating bigger than 4\",\n",
    "    limit=3,\n",
    ")\n",
    "results.knn_params"
   ]
  },
  {
   "cell_type": "code",
   "execution_count": 20,
   "metadata": {},
   "outputs": [
    {
     "data": {
      "text/html": [
       "<div>\n",
       "<style scoped>\n",
       "    .dataframe tbody tr th:only-of-type {\n",
       "        vertical-align: middle;\n",
       "    }\n",
       "\n",
       "    .dataframe tbody tr th {\n",
       "        vertical-align: top;\n",
       "    }\n",
       "\n",
       "    .dataframe thead th {\n",
       "        text-align: right;\n",
       "    }\n",
       "</style>\n",
       "<table border=\"1\" class=\"dataframe\">\n",
       "  <thead>\n",
       "    <tr style=\"text-align: right;\">\n",
       "      <th></th>\n",
       "      <th>type</th>\n",
       "      <th>category</th>\n",
       "      <th>title</th>\n",
       "      <th>description</th>\n",
       "      <th>review_rating</th>\n",
       "      <th>review_count</th>\n",
       "      <th>price</th>\n",
       "      <th>id</th>\n",
       "      <th>similarity_score</th>\n",
       "      <th>rank</th>\n",
       "    </tr>\n",
       "  </thead>\n",
       "  <tbody>\n",
       "    <tr>\n",
       "      <th>0</th>\n",
       "      <td>book</td>\n",
       "      <td>[Books]</td>\n",
       "      <td>100 Days to Brave: Devotions for Unlocking Your Most Courageous Self</td>\n",
       "      <td>nan</td>\n",
       "      <td>4.7</td>\n",
       "      <td>0</td>\n",
       "      <td>9.01</td>\n",
       "      <td>031008962X</td>\n",
       "      <td>65.636003</td>\n",
       "      <td>0</td>\n",
       "    </tr>\n",
       "    <tr>\n",
       "      <th>1</th>\n",
       "      <td>book</td>\n",
       "      <td>[Books]</td>\n",
       "      <td>The Mindful Dragon: A Dragon Book about Mindfulness. Teach Your Dragon To Be Mindful. A Cute Children Story to Teach Kids about Mindfulness, Focus and Peace. (My Dragon Books)</td>\n",
       "      <td>nan</td>\n",
       "      <td>4.7</td>\n",
       "      <td>623</td>\n",
       "      <td>11.69</td>\n",
       "      <td>1948040107</td>\n",
       "      <td>65.635986</td>\n",
       "      <td>1</td>\n",
       "    </tr>\n",
       "    <tr>\n",
       "      <th>2</th>\n",
       "      <td>book</td>\n",
       "      <td>[Books]</td>\n",
       "      <td>Build Your Running Body (A Total-Body Fitness Plan for All Distance Runners, from Milers to Ultramarathoners—Run Farther, Faster, and Injury-Free)</td>\n",
       "      <td>nan</td>\n",
       "      <td>4.7</td>\n",
       "      <td>573</td>\n",
       "      <td>13.49</td>\n",
       "      <td>161519102X</td>\n",
       "      <td>65.635972</td>\n",
       "      <td>2</td>\n",
       "    </tr>\n",
       "  </tbody>\n",
       "</table>\n",
       "</div>"
      ],
      "text/plain": [
       "   type category  \\\n",
       "0  book  [Books]   \n",
       "1  book  [Books]   \n",
       "2  book  [Books]   \n",
       "\n",
       "                                                                                                                                                                             title  \\\n",
       "0                                                                                                             100 Days to Brave: Devotions for Unlocking Your Most Courageous Self   \n",
       "1  The Mindful Dragon: A Dragon Book about Mindfulness. Teach Your Dragon To Be Mindful. A Cute Children Story to Teach Kids about Mindfulness, Focus and Peace. (My Dragon Books)   \n",
       "2                               Build Your Running Body (A Total-Body Fitness Plan for All Distance Runners, from Milers to Ultramarathoners—Run Farther, Faster, and Injury-Free)   \n",
       "\n",
       "  description  review_rating  review_count  price          id  \\\n",
       "0         nan            4.7             0   9.01  031008962X   \n",
       "1         nan            4.7           623  11.69  1948040107   \n",
       "2         nan            4.7           573  13.49  161519102X   \n",
       "\n",
       "   similarity_score  rank  \n",
       "0         65.636003     0  \n",
       "1         65.635986     1  \n",
       "2         65.635972     2  "
      ]
     },
     "execution_count": 20,
     "metadata": {},
     "output_type": "execute_result"
    }
   ],
   "source": [
    "results.to_pandas()"
   ]
  }
 ],
 "metadata": {
  "kernelspec": {
   "display_name": ".venv",
   "language": "python",
   "name": "python3"
  },
  "language_info": {
   "codemirror_mode": {
    "name": "ipython",
    "version": 3
   },
   "file_extension": ".py",
   "mimetype": "text/x-python",
   "name": "python",
   "nbconvert_exporter": "python",
   "pygments_lexer": "ipython3",
   "version": "3.11.8"
  }
 },
 "nbformat": 4,
 "nbformat_minor": 2
}
