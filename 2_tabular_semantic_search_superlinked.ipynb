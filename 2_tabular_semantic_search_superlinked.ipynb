{
 "cells": [
  {
   "cell_type": "code",
   "execution_count": 1,
   "metadata": {},
   "outputs": [
    {
     "name": "stderr",
     "output_type": "stream",
     "text": [
      "/Users/pauliusztin/Documents/01_projects/hands-on-retrieval/.venv/lib/python3.11/site-packages/tqdm/auto.py:21: TqdmWarning: IProgress not found. Please update jupyter and ipywidgets. See https://ipywidgets.readthedocs.io/en/stable/user_install.html\n",
      "  from .autonotebook import tqdm as notebook_tqdm\n",
      "\u001b[32m2024-12-11 18:15:50.870\u001b[0m | \u001b[1mINFO    \u001b[0m | \u001b[36msuperlinked_app.config\u001b[0m:\u001b[36m<module>\u001b[0m:\u001b[36m9\u001b[0m - \u001b[1mLoading '.env' file from: /Users/pauliusztin/Documents/01_projects/hands-on-retrieval/.env\u001b[0m\n"
     ]
    }
   ],
   "source": [
    "%load_ext autoreload\n",
    "%autoreload 2\n",
    "\n",
    "import pandas as pd\n",
    "from superlinked import framework as sl\n",
    "\n",
    "from superlinked_app import index, query\n",
    "from superlinked_app.config import settings\n",
    "\n",
    "settings.validate_processed_dataset_exists()"
   ]
  },
  {
   "cell_type": "code",
   "execution_count": 2,
   "metadata": {},
   "outputs": [],
   "source": [
    "source: sl.InMemorySource = sl.InMemorySource(\n",
    "    index.product,\n",
    "    parser=sl.DataFrameParser(schema=index.product, mapping={index.product.id: \"asin\"}),\n",
    ")\n",
    "executor = sl.InMemoryExecutor(sources=[source], indices=[index.product_index])\n",
    "app = executor.run()"
   ]
  },
  {
   "cell_type": "code",
   "execution_count": 3,
   "metadata": {},
   "outputs": [
    {
     "data": {
      "text/html": [
       "<div>\n",
       "<style scoped>\n",
       "    .dataframe tbody tr th:only-of-type {\n",
       "        vertical-align: middle;\n",
       "    }\n",
       "\n",
       "    .dataframe tbody tr th {\n",
       "        vertical-align: top;\n",
       "    }\n",
       "\n",
       "    .dataframe thead th {\n",
       "        text-align: right;\n",
       "    }\n",
       "</style>\n",
       "<table border=\"1\" class=\"dataframe\">\n",
       "  <thead>\n",
       "    <tr style=\"text-align: right;\">\n",
       "      <th></th>\n",
       "      <th>asin</th>\n",
       "      <th>type</th>\n",
       "      <th>title</th>\n",
       "      <th>description</th>\n",
       "      <th>price</th>\n",
       "      <th>review_rating</th>\n",
       "      <th>review_count</th>\n",
       "    </tr>\n",
       "  </thead>\n",
       "  <tbody>\n",
       "    <tr>\n",
       "      <th>0</th>\n",
       "      <td>B07WP4RXHY</td>\n",
       "      <td>product</td>\n",
       "      <td>YUEPIN U-Tube Clamp 304 Stainless Steel Hose P...</td>\n",
       "      <td>Product Description Specification: Material: 3...</td>\n",
       "      <td>9.99</td>\n",
       "      <td>4.7</td>\n",
       "      <td>54</td>\n",
       "    </tr>\n",
       "    <tr>\n",
       "      <th>1</th>\n",
       "      <td>B07VRZTK2N</td>\n",
       "      <td>product</td>\n",
       "      <td>Apron for Women, Waterproof Adjustable Bib Coo...</td>\n",
       "      <td></td>\n",
       "      <td>11.99</td>\n",
       "      <td>4.0</td>\n",
       "      <td>152</td>\n",
       "    </tr>\n",
       "    <tr>\n",
       "      <th>2</th>\n",
       "      <td>B07V2F5SN1</td>\n",
       "      <td>product</td>\n",
       "      <td>DIY 5D Diamond Painting by Number Kit for Adul...</td>\n",
       "      <td>Product Description 5D DIY Diamond Painting is...</td>\n",
       "      <td>9.99</td>\n",
       "      <td>4.6</td>\n",
       "      <td>378</td>\n",
       "    </tr>\n",
       "    <tr>\n",
       "      <th>3</th>\n",
       "      <td>B08GM4LMKN</td>\n",
       "      <td>product</td>\n",
       "      <td>Órgano bucal de armónica trémolo de 24 agujero...</td>\n",
       "      <td>Descripción del producto Especificación: Tipo ...</td>\n",
       "      <td>25.63</td>\n",
       "      <td>4.6</td>\n",
       "      <td>9</td>\n",
       "    </tr>\n",
       "    <tr>\n",
       "      <th>4</th>\n",
       "      <td>B00MNLQQ7K</td>\n",
       "      <td>product</td>\n",
       "      <td>Design Toscano QM2787100 Darby, the Forest Faw...</td>\n",
       "      <td></td>\n",
       "      <td>40.72</td>\n",
       "      <td>4.7</td>\n",
       "      <td>274</td>\n",
       "    </tr>\n",
       "  </tbody>\n",
       "</table>\n",
       "</div>"
      ],
      "text/plain": [
       "         asin     type                                              title  \\\n",
       "0  B07WP4RXHY  product  YUEPIN U-Tube Clamp 304 Stainless Steel Hose P...   \n",
       "1  B07VRZTK2N  product  Apron for Women, Waterproof Adjustable Bib Coo...   \n",
       "2  B07V2F5SN1  product  DIY 5D Diamond Painting by Number Kit for Adul...   \n",
       "3  B08GM4LMKN  product  Órgano bucal de armónica trémolo de 24 agujero...   \n",
       "4  B00MNLQQ7K  product  Design Toscano QM2787100 Darby, the Forest Faw...   \n",
       "\n",
       "                                         description  price  review_rating  \\\n",
       "0  Product Description Specification: Material: 3...   9.99            4.7   \n",
       "1                                                     11.99            4.0   \n",
       "2  Product Description 5D DIY Diamond Painting is...   9.99            4.6   \n",
       "3  Descripción del producto Especificación: Tipo ...  25.63            4.6   \n",
       "4                                                     40.72            4.7   \n",
       "\n",
       "   review_count  \n",
       "0            54  \n",
       "1           152  \n",
       "2           378  \n",
       "3             9  \n",
       "4           274  "
      ]
     },
     "execution_count": 3,
     "metadata": {},
     "output_type": "execute_result"
    }
   ],
   "source": [
    "df = pd.read_json(settings.PROCESSED_DATASET_PATH, lines=True)\n",
    "df.head()"
   ]
  },
  {
   "cell_type": "code",
   "execution_count": 4,
   "metadata": {},
   "outputs": [
    {
     "data": {
      "text/plain": [
       "300"
      ]
     },
     "execution_count": 4,
     "metadata": {},
     "output_type": "execute_result"
    }
   ],
   "source": [
    "len(df)"
   ]
  },
  {
   "cell_type": "code",
   "execution_count": 5,
   "metadata": {},
   "outputs": [],
   "source": [
    "source.put([df])\n",
    "\n",
    "pd.set_option(\"display.max_colwidth\", 500)"
   ]
  },
  {
   "cell_type": "markdown",
   "metadata": {},
   "source": [
    "## Query books using filters"
   ]
  },
  {
   "cell_type": "code",
   "execution_count": 6,
   "metadata": {},
   "outputs": [
    {
     "data": {
      "text/plain": [
       "{'description_weight': 1.0,\n",
       " 'stars_maximizer_weight': 0.0,\n",
       " 'price_minimizer_weights': 0.0,\n",
       " 'limit': 3,\n",
       " 'natural_query': 'books with a price lower than 100',\n",
       " 'filter_by_type': 'book',\n",
       " 'query_text': 'books',\n",
       " 'rating_bigger_than': None,\n",
       " 'price_smaller_than': 100.0,\n",
       " 'radius_param': None,\n",
       " 'description_similar_clause_weight': 1.0}"
      ]
     },
     "execution_count": 6,
     "metadata": {},
     "output_type": "execute_result"
    }
   ],
   "source": [
    "results = app.query(\n",
    "    query.filter_query,\n",
    "    natural_query=\"books with a price lower than 100\",\n",
    "    limit=3,\n",
    ")\n",
    "results.knn_params"
   ]
  },
  {
   "cell_type": "code",
   "execution_count": 7,
   "metadata": {},
   "outputs": [
    {
     "data": {
      "text/html": [
       "<div>\n",
       "<style scoped>\n",
       "    .dataframe tbody tr th:only-of-type {\n",
       "        vertical-align: middle;\n",
       "    }\n",
       "\n",
       "    .dataframe tbody tr th {\n",
       "        vertical-align: top;\n",
       "    }\n",
       "\n",
       "    .dataframe thead th {\n",
       "        text-align: right;\n",
       "    }\n",
       "</style>\n",
       "<table border=\"1\" class=\"dataframe\">\n",
       "  <thead>\n",
       "    <tr style=\"text-align: right;\">\n",
       "      <th></th>\n",
       "      <th>type</th>\n",
       "      <th>title</th>\n",
       "      <th>description</th>\n",
       "      <th>review_rating</th>\n",
       "      <th>review_count</th>\n",
       "      <th>price</th>\n",
       "      <th>id</th>\n",
       "      <th>similarity_score</th>\n",
       "      <th>rank</th>\n",
       "    </tr>\n",
       "  </thead>\n",
       "  <tbody>\n",
       "    <tr>\n",
       "      <th>0</th>\n",
       "      <td>book</td>\n",
       "      <td>Stables: Beautiful Paddocks, Horse Barns, and Tack Rooms</td>\n",
       "      <td>nan</td>\n",
       "      <td>4.7</td>\n",
       "      <td>100</td>\n",
       "      <td>53.10</td>\n",
       "      <td>0847833143</td>\n",
       "      <td>0.532175</td>\n",
       "      <td>0</td>\n",
       "    </tr>\n",
       "    <tr>\n",
       "      <th>1</th>\n",
       "      <td>book</td>\n",
       "      <td>The Norton Introduction to Literature</td>\n",
       "      <td>nan</td>\n",
       "      <td>4.5</td>\n",
       "      <td>662</td>\n",
       "      <td>76.50</td>\n",
       "      <td>039393893X</td>\n",
       "      <td>0.532175</td>\n",
       "      <td>1</td>\n",
       "    </tr>\n",
       "    <tr>\n",
       "      <th>2</th>\n",
       "      <td>book</td>\n",
       "      <td>An Actor's Work: A Student's Diary</td>\n",
       "      <td>nan</td>\n",
       "      <td>4.5</td>\n",
       "      <td>105</td>\n",
       "      <td>32.35</td>\n",
       "      <td>041542223X</td>\n",
       "      <td>0.532175</td>\n",
       "      <td>2</td>\n",
       "    </tr>\n",
       "  </tbody>\n",
       "</table>\n",
       "</div>"
      ],
      "text/plain": [
       "   type                                                     title description  \\\n",
       "0  book  Stables: Beautiful Paddocks, Horse Barns, and Tack Rooms         nan   \n",
       "1  book                     The Norton Introduction to Literature         nan   \n",
       "2  book                        An Actor's Work: A Student's Diary         nan   \n",
       "\n",
       "   review_rating  review_count  price          id  similarity_score  rank  \n",
       "0            4.7           100  53.10  0847833143          0.532175     0  \n",
       "1            4.5           662  76.50  039393893X          0.532175     1  \n",
       "2            4.5           105  32.35  041542223X          0.532175     2  "
      ]
     },
     "execution_count": 7,
     "metadata": {},
     "output_type": "execute_result"
    }
   ],
   "source": [
    "results.to_pandas()"
   ]
  },
  {
   "cell_type": "code",
   "execution_count": 8,
   "metadata": {},
   "outputs": [
    {
     "data": {
      "text/plain": [
       "{'description_weight': 1.0,\n",
       " 'stars_maximizer_weight': 0.0,\n",
       " 'price_minimizer_weights': 0.0,\n",
       " 'limit': 3,\n",
       " 'natural_query': 'books with a price lower than 100 and a rating bigger than 4',\n",
       " 'filter_by_type': 'book',\n",
       " 'query_text': 'books',\n",
       " 'rating_bigger_than': 4.0,\n",
       " 'price_smaller_than': 100.0,\n",
       " 'radius_param': None,\n",
       " 'description_similar_clause_weight': 1.0}"
      ]
     },
     "execution_count": 8,
     "metadata": {},
     "output_type": "execute_result"
    }
   ],
   "source": [
    "results = app.query(\n",
    "    query.filter_query,\n",
    "    natural_query=\"books with a price lower than 100 and a rating bigger than 4\",\n",
    "    limit=3,\n",
    ")\n",
    "results.knn_params"
   ]
  },
  {
   "cell_type": "code",
   "execution_count": 9,
   "metadata": {},
   "outputs": [
    {
     "data": {
      "text/html": [
       "<div>\n",
       "<style scoped>\n",
       "    .dataframe tbody tr th:only-of-type {\n",
       "        vertical-align: middle;\n",
       "    }\n",
       "\n",
       "    .dataframe tbody tr th {\n",
       "        vertical-align: top;\n",
       "    }\n",
       "\n",
       "    .dataframe thead th {\n",
       "        text-align: right;\n",
       "    }\n",
       "</style>\n",
       "<table border=\"1\" class=\"dataframe\">\n",
       "  <thead>\n",
       "    <tr style=\"text-align: right;\">\n",
       "      <th></th>\n",
       "      <th>type</th>\n",
       "      <th>title</th>\n",
       "      <th>description</th>\n",
       "      <th>review_rating</th>\n",
       "      <th>review_count</th>\n",
       "      <th>price</th>\n",
       "      <th>id</th>\n",
       "      <th>similarity_score</th>\n",
       "      <th>rank</th>\n",
       "    </tr>\n",
       "  </thead>\n",
       "  <tbody>\n",
       "    <tr>\n",
       "      <th>0</th>\n",
       "      <td>book</td>\n",
       "      <td>Stables: Beautiful Paddocks, Horse Barns, and Tack Rooms</td>\n",
       "      <td>nan</td>\n",
       "      <td>4.7</td>\n",
       "      <td>100</td>\n",
       "      <td>53.10</td>\n",
       "      <td>0847833143</td>\n",
       "      <td>0.532175</td>\n",
       "      <td>0</td>\n",
       "    </tr>\n",
       "    <tr>\n",
       "      <th>1</th>\n",
       "      <td>book</td>\n",
       "      <td>The Norton Introduction to Literature</td>\n",
       "      <td>nan</td>\n",
       "      <td>4.5</td>\n",
       "      <td>662</td>\n",
       "      <td>76.50</td>\n",
       "      <td>039393893X</td>\n",
       "      <td>0.532175</td>\n",
       "      <td>1</td>\n",
       "    </tr>\n",
       "    <tr>\n",
       "      <th>2</th>\n",
       "      <td>book</td>\n",
       "      <td>An Actor's Work: A Student's Diary</td>\n",
       "      <td>nan</td>\n",
       "      <td>4.5</td>\n",
       "      <td>105</td>\n",
       "      <td>32.35</td>\n",
       "      <td>041542223X</td>\n",
       "      <td>0.532175</td>\n",
       "      <td>2</td>\n",
       "    </tr>\n",
       "  </tbody>\n",
       "</table>\n",
       "</div>"
      ],
      "text/plain": [
       "   type                                                     title description  \\\n",
       "0  book  Stables: Beautiful Paddocks, Horse Barns, and Tack Rooms         nan   \n",
       "1  book                     The Norton Introduction to Literature         nan   \n",
       "2  book                        An Actor's Work: A Student's Diary         nan   \n",
       "\n",
       "   review_rating  review_count  price          id  similarity_score  rank  \n",
       "0            4.7           100  53.10  0847833143          0.532175     0  \n",
       "1            4.5           662  76.50  039393893X          0.532175     1  \n",
       "2            4.5           105  32.35  041542223X          0.532175     2  "
      ]
     },
     "execution_count": 9,
     "metadata": {},
     "output_type": "execute_result"
    }
   ],
   "source": [
    "results.to_pandas()"
   ]
  },
  {
   "cell_type": "markdown",
   "metadata": {},
   "source": [
    "## Query books leveraving semantic meaning"
   ]
  },
  {
   "cell_type": "code",
   "execution_count": 10,
   "metadata": {},
   "outputs": [
    {
     "data": {
      "text/plain": [
       "{'description_weight': 0.0,\n",
       " 'stars_maximizer_weight': 0.0,\n",
       " 'price_minimizer_weights': 1.0,\n",
       " 'limit': 3,\n",
       " 'natural_query': 'books with a price lower than 100',\n",
       " 'filter_by_type': 'book',\n",
       " 'query_text': 'books',\n",
       " 'query_price': 100.0,\n",
       " 'query_review_rating': 0.0,\n",
       " 'radius_param': None,\n",
       " 'description_similar_clause_weight': 1.0,\n",
       " 'price_similar_clause_weight': 1.0,\n",
       " 'review_rating_similar_clause_weight': 1.0}"
      ]
     },
     "execution_count": 10,
     "metadata": {},
     "output_type": "execute_result"
    }
   ],
   "source": [
    "results = app.query(\n",
    "    query.semantic_query,\n",
    "    natural_query=\"books with a price lower than 100\",\n",
    "    limit=3,\n",
    ")\n",
    "results.knn_params"
   ]
  },
  {
   "cell_type": "code",
   "execution_count": 11,
   "metadata": {},
   "outputs": [
    {
     "data": {
      "text/html": [
       "<div>\n",
       "<style scoped>\n",
       "    .dataframe tbody tr th:only-of-type {\n",
       "        vertical-align: middle;\n",
       "    }\n",
       "\n",
       "    .dataframe tbody tr th {\n",
       "        vertical-align: top;\n",
       "    }\n",
       "\n",
       "    .dataframe thead th {\n",
       "        text-align: right;\n",
       "    }\n",
       "</style>\n",
       "<table border=\"1\" class=\"dataframe\">\n",
       "  <thead>\n",
       "    <tr style=\"text-align: right;\">\n",
       "      <th></th>\n",
       "      <th>type</th>\n",
       "      <th>title</th>\n",
       "      <th>description</th>\n",
       "      <th>review_rating</th>\n",
       "      <th>review_count</th>\n",
       "      <th>price</th>\n",
       "      <th>id</th>\n",
       "      <th>similarity_score</th>\n",
       "      <th>rank</th>\n",
       "    </tr>\n",
       "  </thead>\n",
       "  <tbody>\n",
       "    <tr>\n",
       "      <th>0</th>\n",
       "      <td>book</td>\n",
       "      <td>All Aboard! New York: A City Primer</td>\n",
       "      <td>nan</td>\n",
       "      <td>4.6</td>\n",
       "      <td>74</td>\n",
       "      <td>9.99</td>\n",
       "      <td>1423640748</td>\n",
       "      <td>0.999877</td>\n",
       "      <td>0</td>\n",
       "    </tr>\n",
       "    <tr>\n",
       "      <th>1</th>\n",
       "      <td>book</td>\n",
       "      <td>Feminist Baby (Feminist Baby, 4)</td>\n",
       "      <td>nan</td>\n",
       "      <td>4.5</td>\n",
       "      <td>623</td>\n",
       "      <td>10.59</td>\n",
       "      <td>1484778588</td>\n",
       "      <td>0.999862</td>\n",
       "      <td>1</td>\n",
       "    </tr>\n",
       "    <tr>\n",
       "      <th>2</th>\n",
       "      <td>book</td>\n",
       "      <td>The Mindful Dragon: A Dragon Book about Mindfulness. Teach Your Dragon To Be Mindful. A Cute Children Story to Teach Kids about Mindfulness, Focus and Peace. (My Dragon Books)</td>\n",
       "      <td>nan</td>\n",
       "      <td>4.7</td>\n",
       "      <td>623</td>\n",
       "      <td>11.69</td>\n",
       "      <td>1948040107</td>\n",
       "      <td>0.999831</td>\n",
       "      <td>2</td>\n",
       "    </tr>\n",
       "  </tbody>\n",
       "</table>\n",
       "</div>"
      ],
      "text/plain": [
       "   type  \\\n",
       "0  book   \n",
       "1  book   \n",
       "2  book   \n",
       "\n",
       "                                                                                                                                                                             title  \\\n",
       "0                                                                                                                                              All Aboard! New York: A City Primer   \n",
       "1                                                                                                                                                 Feminist Baby (Feminist Baby, 4)   \n",
       "2  The Mindful Dragon: A Dragon Book about Mindfulness. Teach Your Dragon To Be Mindful. A Cute Children Story to Teach Kids about Mindfulness, Focus and Peace. (My Dragon Books)   \n",
       "\n",
       "  description  review_rating  review_count  price          id  \\\n",
       "0         nan            4.6            74   9.99  1423640748   \n",
       "1         nan            4.5           623  10.59  1484778588   \n",
       "2         nan            4.7           623  11.69  1948040107   \n",
       "\n",
       "   similarity_score  rank  \n",
       "0          0.999877     0  \n",
       "1          0.999862     1  \n",
       "2          0.999831     2  "
      ]
     },
     "execution_count": 11,
     "metadata": {},
     "output_type": "execute_result"
    }
   ],
   "source": [
    "results.to_pandas()"
   ]
  },
  {
   "cell_type": "code",
   "execution_count": 12,
   "metadata": {},
   "outputs": [
    {
     "data": {
      "text/plain": [
       "{'description_weight': 0.0,\n",
       " 'stars_maximizer_weight': 1.0,\n",
       " 'price_minimizer_weights': 1.0,\n",
       " 'limit': 3,\n",
       " 'natural_query': 'books with a price lower than 100 and a rating bigger than 4',\n",
       " 'filter_by_type': 'book',\n",
       " 'query_text': '',\n",
       " 'query_price': 100.0,\n",
       " 'query_review_rating': 4.0,\n",
       " 'radius_param': None,\n",
       " 'description_similar_clause_weight': 0.0,\n",
       " 'price_similar_clause_weight': 1.0,\n",
       " 'review_rating_similar_clause_weight': 1.0}"
      ]
     },
     "execution_count": 12,
     "metadata": {},
     "output_type": "execute_result"
    }
   ],
   "source": [
    "results = app.query(\n",
    "    query.semantic_query,\n",
    "    natural_query=\"books with a price lower than 100 and a rating bigger than 4\",\n",
    "    limit=3,\n",
    ")\n",
    "results.knn_params"
   ]
  },
  {
   "cell_type": "code",
   "execution_count": 13,
   "metadata": {},
   "outputs": [
    {
     "data": {
      "text/html": [
       "<div>\n",
       "<style scoped>\n",
       "    .dataframe tbody tr th:only-of-type {\n",
       "        vertical-align: middle;\n",
       "    }\n",
       "\n",
       "    .dataframe tbody tr th {\n",
       "        vertical-align: top;\n",
       "    }\n",
       "\n",
       "    .dataframe thead th {\n",
       "        text-align: right;\n",
       "    }\n",
       "</style>\n",
       "<table border=\"1\" class=\"dataframe\">\n",
       "  <thead>\n",
       "    <tr style=\"text-align: right;\">\n",
       "      <th></th>\n",
       "      <th>type</th>\n",
       "      <th>title</th>\n",
       "      <th>description</th>\n",
       "      <th>review_rating</th>\n",
       "      <th>review_count</th>\n",
       "      <th>price</th>\n",
       "      <th>id</th>\n",
       "      <th>similarity_score</th>\n",
       "      <th>rank</th>\n",
       "    </tr>\n",
       "  </thead>\n",
       "  <tbody>\n",
       "    <tr>\n",
       "      <th>0</th>\n",
       "      <td>book</td>\n",
       "      <td>The Mindful Dragon: A Dragon Book about Mindfulness. Teach Your Dragon To Be Mindful. A Cute Children Story to Teach Kids about Mindfulness, Focus and Peace. (My Dragon Books)</td>\n",
       "      <td>nan</td>\n",
       "      <td>4.7</td>\n",
       "      <td>623</td>\n",
       "      <td>11.69</td>\n",
       "      <td>1948040107</td>\n",
       "      <td>0.996450</td>\n",
       "      <td>0</td>\n",
       "    </tr>\n",
       "    <tr>\n",
       "      <th>1</th>\n",
       "      <td>book</td>\n",
       "      <td>Build Your Running Body (A Total-Body Fitness Plan for All Distance Runners, from Milers to Ultramarathoners—Run Farther, Faster, and Injury-Free)</td>\n",
       "      <td>nan</td>\n",
       "      <td>4.7</td>\n",
       "      <td>573</td>\n",
       "      <td>13.49</td>\n",
       "      <td>161519102X</td>\n",
       "      <td>0.996422</td>\n",
       "      <td>1</td>\n",
       "    </tr>\n",
       "    <tr>\n",
       "      <th>2</th>\n",
       "      <td>book</td>\n",
       "      <td>Stables: Beautiful Paddocks, Horse Barns, and Tack Rooms</td>\n",
       "      <td>nan</td>\n",
       "      <td>4.7</td>\n",
       "      <td>100</td>\n",
       "      <td>53.10</td>\n",
       "      <td>0847833143</td>\n",
       "      <td>0.994796</td>\n",
       "      <td>2</td>\n",
       "    </tr>\n",
       "  </tbody>\n",
       "</table>\n",
       "</div>"
      ],
      "text/plain": [
       "   type  \\\n",
       "0  book   \n",
       "1  book   \n",
       "2  book   \n",
       "\n",
       "                                                                                                                                                                             title  \\\n",
       "0  The Mindful Dragon: A Dragon Book about Mindfulness. Teach Your Dragon To Be Mindful. A Cute Children Story to Teach Kids about Mindfulness, Focus and Peace. (My Dragon Books)   \n",
       "1                               Build Your Running Body (A Total-Body Fitness Plan for All Distance Runners, from Milers to Ultramarathoners—Run Farther, Faster, and Injury-Free)   \n",
       "2                                                                                                                         Stables: Beautiful Paddocks, Horse Barns, and Tack Rooms   \n",
       "\n",
       "  description  review_rating  review_count  price          id  \\\n",
       "0         nan            4.7           623  11.69  1948040107   \n",
       "1         nan            4.7           573  13.49  161519102X   \n",
       "2         nan            4.7           100  53.10  0847833143   \n",
       "\n",
       "   similarity_score  rank  \n",
       "0          0.996450     0  \n",
       "1          0.996422     1  \n",
       "2          0.994796     2  "
      ]
     },
     "execution_count": 13,
     "metadata": {},
     "output_type": "execute_result"
    }
   ],
   "source": [
    "results.to_pandas()"
   ]
  },
  {
   "cell_type": "code",
   "execution_count": 14,
   "metadata": {},
   "outputs": [
    {
     "data": {
      "text/plain": [
       "{'description_weight': 0.0,\n",
       " 'stars_maximizer_weight': 1.0,\n",
       " 'price_minimizer_weights': 0.5,\n",
       " 'limit': 3,\n",
       " 'natural_query': 'Return the top 5 books (along with their review count and price) with the highest reviews rating.',\n",
       " 'filter_by_type': 'book',\n",
       " 'query_text': 'books',\n",
       " 'query_price': 0.0,\n",
       " 'query_review_rating': 5.0,\n",
       " 'radius_param': None,\n",
       " 'description_similar_clause_weight': 1.0,\n",
       " 'price_similar_clause_weight': 1.0,\n",
       " 'review_rating_similar_clause_weight': 1.0}"
      ]
     },
     "execution_count": 14,
     "metadata": {},
     "output_type": "execute_result"
    }
   ],
   "source": [
    "results = app.query(\n",
    "    query.semantic_query,\n",
    "    natural_query=\"Return the top 5 books (along with their review count and price) with the highest reviews rating.\",\n",
    "    limit=3,\n",
    ")\n",
    "results.knn_params"
   ]
  },
  {
   "cell_type": "code",
   "execution_count": 15,
   "metadata": {},
   "outputs": [
    {
     "data": {
      "text/html": [
       "<div>\n",
       "<style scoped>\n",
       "    .dataframe tbody tr th:only-of-type {\n",
       "        vertical-align: middle;\n",
       "    }\n",
       "\n",
       "    .dataframe tbody tr th {\n",
       "        vertical-align: top;\n",
       "    }\n",
       "\n",
       "    .dataframe thead th {\n",
       "        text-align: right;\n",
       "    }\n",
       "</style>\n",
       "<table border=\"1\" class=\"dataframe\">\n",
       "  <thead>\n",
       "    <tr style=\"text-align: right;\">\n",
       "      <th></th>\n",
       "      <th>type</th>\n",
       "      <th>title</th>\n",
       "      <th>description</th>\n",
       "      <th>review_rating</th>\n",
       "      <th>review_count</th>\n",
       "      <th>price</th>\n",
       "      <th>id</th>\n",
       "      <th>similarity_score</th>\n",
       "      <th>rank</th>\n",
       "    </tr>\n",
       "  </thead>\n",
       "  <tbody>\n",
       "    <tr>\n",
       "      <th>0</th>\n",
       "      <td>book</td>\n",
       "      <td>The Mindful Dragon: A Dragon Book about Mindfulness. Teach Your Dragon To Be Mindful. A Cute Children Story to Teach Kids about Mindfulness, Focus and Peace. (My Dragon Books)</td>\n",
       "      <td>nan</td>\n",
       "      <td>4.7</td>\n",
       "      <td>623</td>\n",
       "      <td>11.69</td>\n",
       "      <td>1948040107</td>\n",
       "      <td>0.944246</td>\n",
       "      <td>0</td>\n",
       "    </tr>\n",
       "    <tr>\n",
       "      <th>1</th>\n",
       "      <td>book</td>\n",
       "      <td>Build Your Running Body (A Total-Body Fitness Plan for All Distance Runners, from Milers to Ultramarathoners—Run Farther, Faster, and Injury-Free)</td>\n",
       "      <td>nan</td>\n",
       "      <td>4.7</td>\n",
       "      <td>573</td>\n",
       "      <td>13.49</td>\n",
       "      <td>161519102X</td>\n",
       "      <td>0.944228</td>\n",
       "      <td>1</td>\n",
       "    </tr>\n",
       "    <tr>\n",
       "      <th>2</th>\n",
       "      <td>book</td>\n",
       "      <td>Stables: Beautiful Paddocks, Horse Barns, and Tack Rooms</td>\n",
       "      <td>nan</td>\n",
       "      <td>4.7</td>\n",
       "      <td>100</td>\n",
       "      <td>53.10</td>\n",
       "      <td>0847833143</td>\n",
       "      <td>0.943200</td>\n",
       "      <td>2</td>\n",
       "    </tr>\n",
       "  </tbody>\n",
       "</table>\n",
       "</div>"
      ],
      "text/plain": [
       "   type  \\\n",
       "0  book   \n",
       "1  book   \n",
       "2  book   \n",
       "\n",
       "                                                                                                                                                                             title  \\\n",
       "0  The Mindful Dragon: A Dragon Book about Mindfulness. Teach Your Dragon To Be Mindful. A Cute Children Story to Teach Kids about Mindfulness, Focus and Peace. (My Dragon Books)   \n",
       "1                               Build Your Running Body (A Total-Body Fitness Plan for All Distance Runners, from Milers to Ultramarathoners—Run Farther, Faster, and Injury-Free)   \n",
       "2                                                                                                                         Stables: Beautiful Paddocks, Horse Barns, and Tack Rooms   \n",
       "\n",
       "  description  review_rating  review_count  price          id  \\\n",
       "0         nan            4.7           623  11.69  1948040107   \n",
       "1         nan            4.7           573  13.49  161519102X   \n",
       "2         nan            4.7           100  53.10  0847833143   \n",
       "\n",
       "   similarity_score  rank  \n",
       "0          0.944246     0  \n",
       "1          0.944228     1  \n",
       "2          0.943200     2  "
      ]
     },
     "execution_count": 15,
     "metadata": {},
     "output_type": "execute_result"
    }
   ],
   "source": [
    "results.to_pandas()"
   ]
  },
  {
   "cell_type": "markdown",
   "metadata": {},
   "source": [
    "## Find similar books based on a given book"
   ]
  },
  {
   "cell_type": "code",
   "execution_count": 16,
   "metadata": {},
   "outputs": [
    {
     "data": {
      "text/plain": [
       "0    Product Description Specification: Material: 304 Stainless Steel,100% New Rubber Color: Silver Shape: U Shape Quantity: 10 Pieces Note: Note: Since the size above is measured by hand, the size of the actual item you received could be slightly different from the size above. Product Description Specification: Material: 304 Stainless Steel,100% New Rubber Color: Silver Shape: U Shape Quantity: 10 Pieces Note: Note: Since the size above is measured by hand, the size of the actual item you receiv...\n",
       "Name: description, dtype: object"
      ]
     },
     "execution_count": 16,
     "metadata": {},
     "output_type": "execute_result"
    }
   ],
   "source": [
    "df[df[\"asin\"] == \"B07WP4RXHY\"][\"description\"]"
   ]
  },
  {
   "cell_type": "code",
   "execution_count": 17,
   "metadata": {},
   "outputs": [
    {
     "data": {
      "text/plain": [
       "{'description_weight': 1.0,\n",
       " 'stars_maximizer_weight': 1.0,\n",
       " 'price_minimizer_weights': 1.0,\n",
       " 'limit': 3,\n",
       " 'natural_query': 'similar books to B07WP4RXHY with a rating bigger than 4.5',\n",
       " 'filter_by_type': None,\n",
       " 'query_text': 'similar books',\n",
       " 'rating_bigger_than': 4.5,\n",
       " 'price_smaller_than': None,\n",
       " 'product_id': 'B07WP4RXHY',\n",
       " 'radius_param': None,\n",
       " 'description_similar_clause_weight': 1.0,\n",
       " 'with_vector_id_weight_param': 1.0}"
      ]
     },
     "execution_count": 17,
     "metadata": {},
     "output_type": "execute_result"
    }
   ],
   "source": [
    "results = app.query(\n",
    "    query.similar_items_query,\n",
    "    natural_query=\"similar books to B07WP4RXHY with a rating bigger than 4.5\",\n",
    "    limit=3,\n",
    ")\n",
    "results.knn_params"
   ]
  },
  {
   "cell_type": "code",
   "execution_count": 18,
   "metadata": {},
   "outputs": [
    {
     "data": {
      "text/html": [
       "<div>\n",
       "<style scoped>\n",
       "    .dataframe tbody tr th:only-of-type {\n",
       "        vertical-align: middle;\n",
       "    }\n",
       "\n",
       "    .dataframe tbody tr th {\n",
       "        vertical-align: top;\n",
       "    }\n",
       "\n",
       "    .dataframe thead th {\n",
       "        text-align: right;\n",
       "    }\n",
       "</style>\n",
       "<table border=\"1\" class=\"dataframe\">\n",
       "  <thead>\n",
       "    <tr style=\"text-align: right;\">\n",
       "      <th></th>\n",
       "      <th>type</th>\n",
       "      <th>title</th>\n",
       "      <th>description</th>\n",
       "      <th>review_rating</th>\n",
       "      <th>review_count</th>\n",
       "      <th>price</th>\n",
       "      <th>id</th>\n",
       "      <th>similarity_score</th>\n",
       "      <th>rank</th>\n",
       "    </tr>\n",
       "  </thead>\n",
       "  <tbody>\n",
       "    <tr>\n",
       "      <th>0</th>\n",
       "      <td>product</td>\n",
       "      <td>YUEPIN U-Tube Clamp 304 Stainless Steel Hose Pipe Cable Strap Clips With Rubber Cushioned (1-21/32\"(42mm)-10pcs)</td>\n",
       "      <td>Product Description Specification: Material: 304 Stainless Steel,100% New Rubber Color: Silver Shape: U Shape Quantity: 10 Pieces Note: Note: Since the size above is measured by hand, the size of the actual item you received could be slightly different from the size above. Product Description Specification: Material: 304 Stainless Steel,100% New Rubber Color: Silver Shape: U Shape Quantity: 10 Pieces Note: Note: Since the size above is measured by hand, the size of the actual item you receiv...</td>\n",
       "      <td>4.7</td>\n",
       "      <td>54</td>\n",
       "      <td>9.99</td>\n",
       "      <td>B07WP4RXHY</td>\n",
       "      <td>0.939683</td>\n",
       "      <td>0</td>\n",
       "    </tr>\n",
       "    <tr>\n",
       "      <th>1</th>\n",
       "      <td>product</td>\n",
       "      <td>AERZETIX - Maza/Maceta/Martillo Cuadrado Clásico - 1000g x 282mm - Cabeza de Acero - Mango Metálico - para Tallador/Escultor/Albañil de Piedra - Cantera/Cincel/Hormigón/Roca/Granito/Mármol - C46145</td>\n",
       "      <td></td>\n",
       "      <td>5.0</td>\n",
       "      <td>2</td>\n",
       "      <td>28.99</td>\n",
       "      <td>B08VMRC5V6</td>\n",
       "      <td>0.917831</td>\n",
       "      <td>1</td>\n",
       "    </tr>\n",
       "    <tr>\n",
       "      <th>2</th>\n",
       "      <td>product</td>\n",
       "      <td>LOCOLO 46Pcs Mixed Women Make Up Lipstick Dress Shoes Purse Hat Charms for Women Girl Hot Fashion Charm Pendants for Jewelry Making</td>\n",
       "      <td></td>\n",
       "      <td>4.7</td>\n",
       "      <td>27</td>\n",
       "      <td>4.93</td>\n",
       "      <td>B08BFVFL6T</td>\n",
       "      <td>0.915856</td>\n",
       "      <td>2</td>\n",
       "    </tr>\n",
       "  </tbody>\n",
       "</table>\n",
       "</div>"
      ],
      "text/plain": [
       "      type  \\\n",
       "0  product   \n",
       "1  product   \n",
       "2  product   \n",
       "\n",
       "                                                                                                                                                                                                   title  \\\n",
       "0                                                                                       YUEPIN U-Tube Clamp 304 Stainless Steel Hose Pipe Cable Strap Clips With Rubber Cushioned (1-21/32\"(42mm)-10pcs)   \n",
       "1  AERZETIX - Maza/Maceta/Martillo Cuadrado Clásico - 1000g x 282mm - Cabeza de Acero - Mango Metálico - para Tallador/Escultor/Albañil de Piedra - Cantera/Cincel/Hormigón/Roca/Granito/Mármol - C46145   \n",
       "2                                                                    LOCOLO 46Pcs Mixed Women Make Up Lipstick Dress Shoes Purse Hat Charms for Women Girl Hot Fashion Charm Pendants for Jewelry Making   \n",
       "\n",
       "                                                                                                                                                                                                                                                                                                                                                                                                                                                                                                           description  \\\n",
       "0  Product Description Specification: Material: 304 Stainless Steel,100% New Rubber Color: Silver Shape: U Shape Quantity: 10 Pieces Note: Note: Since the size above is measured by hand, the size of the actual item you received could be slightly different from the size above. Product Description Specification: Material: 304 Stainless Steel,100% New Rubber Color: Silver Shape: U Shape Quantity: 10 Pieces Note: Note: Since the size above is measured by hand, the size of the actual item you receiv...   \n",
       "1                                                                                                                                                                                                                                                                                                                                                                                                                                                                                                                        \n",
       "2                                                                                                                                                                                                                                                                                                                                                                                                                                                                                                                        \n",
       "\n",
       "   review_rating  review_count  price          id  similarity_score  rank  \n",
       "0            4.7            54   9.99  B07WP4RXHY          0.939683     0  \n",
       "1            5.0             2  28.99  B08VMRC5V6          0.917831     1  \n",
       "2            4.7            27   4.93  B08BFVFL6T          0.915856     2  "
      ]
     },
     "execution_count": 18,
     "metadata": {},
     "output_type": "execute_result"
    }
   ],
   "source": [
    "results.to_pandas()"
   ]
  }
 ],
 "metadata": {
  "kernelspec": {
   "display_name": ".venv",
   "language": "python",
   "name": "python3"
  },
  "language_info": {
   "codemirror_mode": {
    "name": "ipython",
    "version": 3
   },
   "file_extension": ".py",
   "mimetype": "text/x-python",
   "name": "python",
   "nbconvert_exporter": "python",
   "pygments_lexer": "ipython3",
   "version": "3.11.8"
  }
 },
 "nbformat": 4,
 "nbformat_minor": 2
}
