{
 "cells": [
  {
   "cell_type": "code",
   "execution_count": 1,
   "metadata": {},
   "outputs": [],
   "source": [
    "%load_ext autoreload\n",
    "%autoreload 2\n",
    "\n",
    "import pandas as pd\n",
    "import altair as alt\n",
    "\n",
    "from product_search.preprocessing import process_product_data\n",
    "\n",
    "pd.set_option('display.max_rows', 10)\n",
    "pd.set_option('display.max_columns', 20)"
   ]
  },
  {
   "cell_type": "code",
   "execution_count": 2,
   "metadata": {},
   "outputs": [],
   "source": [
    "# df = pd.read_json('data/esci.json', lines=True)\n",
    "df = pd.read_json('data/sample.json', lines=True)"
   ]
  },
  {
   "cell_type": "code",
   "execution_count": null,
   "metadata": {},
   "outputs": [],
   "source": [
    "df.head(2)"
   ]
  },
  {
   "cell_type": "code",
   "execution_count": null,
   "metadata": {},
   "outputs": [],
   "source": [
    "# Basic information about the dataset\n",
    "print(\"=== Dataset Overview ===\")\n",
    "print(f\"Number of records: {len(df)}\")\n",
    "print(\"\\nColumns:\")\n",
    "df.columns.tolist()"
   ]
  },
  {
   "cell_type": "code",
   "execution_count": null,
   "metadata": {},
   "outputs": [],
   "source": [
    "# Data types\n",
    "print(\"\\n=== Data Types ===\")\n",
    "df.dtypes"
   ]
  },
  {
   "cell_type": "code",
   "execution_count": null,
   "metadata": {},
   "outputs": [],
   "source": [
    "# Total number of records\n",
    "print(\"\\n=== Total Records ===\")\n",
    "total_records = len(df)\n",
    "print(f\"Total number of records in dataset: {total_records:,}\")\n"
   ]
  },
  {
   "cell_type": "code",
   "execution_count": null,
   "metadata": {},
   "outputs": [],
   "source": [
    "# Check for missing values\n",
    "print(\"\\n=== Missing Values ===\")\n",
    "missing_values = df.isnull().sum()\n",
    "print(missing_values[missing_values > 0])  # Only show columns with missing values\n",
    "print(f\"\\nTotal missing values: {df.isnull().sum().sum()}\")"
   ]
  },
  {
   "cell_type": "code",
   "execution_count": null,
   "metadata": {},
   "outputs": [],
   "source": [
    "# Distribution of product types\n",
    "print(\"\\n=== Product Type Distribution ===\")\n",
    "type_dist = df['type'].value_counts()\n",
    "print(type_dist)"
   ]
  },
  {
   "cell_type": "code",
   "execution_count": null,
   "metadata": {},
   "outputs": [],
   "source": [
    "chart = alt.Chart(df.reset_index()).mark_bar().encode(\n",
    "    x=alt.X('type:N', title='Type'),\n",
    "    y=alt.Y('count():Q', title='Count')\n",
    ").properties(\n",
    "    width=500,\n",
    "    height=300,\n",
    "    title='Distribution of Product Types'\n",
    ")\n",
    "chart.show()"
   ]
  },
  {
   "cell_type": "code",
   "execution_count": null,
   "metadata": {},
   "outputs": [],
   "source": [
    "# Distribution of locales\n",
    "print(\"\\n=== Locale Distribution ===\")\n",
    "locale_dist = df['locale'].value_counts()\n",
    "print(locale_dist)"
   ]
  },
  {
   "cell_type": "code",
   "execution_count": null,
   "metadata": {},
   "outputs": [],
   "source": [
    "# Create a DataFrame for the locale distribution\n",
    "locale_df = pd.DataFrame({\n",
    "    'locale': locale_dist.index,\n",
    "    'count': locale_dist.values\n",
    "})\n",
    "\n",
    "# Calculate percentage\n",
    "locale_df['percentage'] = locale_df['count'] / locale_df['count'].sum() * 100\n",
    "\n",
    "# Create donut chart\n",
    "chart = alt.Chart(locale_df).mark_arc(innerRadius=50).encode(\n",
    "    theta=alt.Theta(field='count', type='quantitative'),\n",
    "    color=alt.Color(field='locale', type='nominal'),\n",
    "    tooltip=['locale', 'percentage']\n",
    ").properties(\n",
    "    width=400,\n",
    "    height=400,\n",
    "    title='Distribution of Locales'\n",
    ")\n",
    "chart.show()"
   ]
  },
  {
   "cell_type": "code",
   "execution_count": null,
   "metadata": {},
   "outputs": [],
   "source": [
    "# Analyze ratings distribution\n",
    "print(\"\\n=== Ratings Statistics ===\")\n",
    "# Convert ratings to numeric, removing 'ratings' text and commas\n",
    "df['ratings_count'] = df['ratings'].str.extract('(\\d+(?:,\\d+)?)', expand=False).str.replace(',', '').astype(float)\n",
    "print(df['ratings_count'].describe())"
   ]
  },
  {
   "cell_type": "code",
   "execution_count": null,
   "metadata": {},
   "outputs": [],
   "source": [
    "chart = alt.Chart(df).mark_bar().encode(\n",
    "    x=alt.X('ratings_count:Q', \n",
    "            bin=alt.Bin(maxbins=30),\n",
    "            title='Number of Ratings'),\n",
    "    y=alt.Y('count():Q',\n",
    "            scale=alt.Scale(type='log'),\n",
    "            title='Frequency')\n",
    ").properties(\n",
    "    width=500,\n",
    "    height=300,\n",
    "    title='Distribution of Number of Ratings'\n",
    ")\n",
    "chart.show()"
   ]
  },
  {
   "cell_type": "code",
   "execution_count": null,
   "metadata": {},
   "outputs": [],
   "source": [
    "# Analyze star ratings\n",
    "print(\"\\n=== Star Ratings Statistics ===\")\n",
    "# Convert stars to numeric, extracting just the number\n",
    "df['stars_numeric'] = df['stars'].str.extract('([\\d.]+)').astype(float)\n",
    "print(df['stars_numeric'].describe())"
   ]
  },
  {
   "cell_type": "code",
   "execution_count": null,
   "metadata": {},
   "outputs": [],
   "source": [
    "chart = alt.Chart(df).mark_boxplot().encode(\n",
    "    x=alt.X('type:N', title='Type'),\n",
    "    y=alt.Y('stars_numeric:Q', title='Star Rating')\n",
    ").properties(\n",
    "    width=600,\n",
    "    height=300,\n",
    "    title='Star Ratings Distribution by Product Type'\n",
    ")\n",
    "chart.show()"
   ]
  },
  {
   "cell_type": "markdown",
   "metadata": {},
   "source": [
    " # EDA on the processed data"
   ]
  },
  {
   "cell_type": "code",
   "execution_count": null,
   "metadata": {},
   "outputs": [],
   "source": [
    "processed_df = process_product_data(df, sample=False)\n",
    "processed_df.head()"
   ]
  },
  {
   "cell_type": "code",
   "execution_count": null,
   "metadata": {},
   "outputs": [],
   "source": [
    "# we can look at the minimum and maximum values of Number-like attributes to properly set up the space\n",
    "processed_df[[\"price\", \"review_count\", \"review_rating\"]].describe().loc[[\"min\", \"max\"]]"
   ]
  },
  {
   "cell_type": "code",
   "execution_count": null,
   "metadata": {},
   "outputs": [],
   "source": [
    "# Check for NaN values in numeric columns\n",
    "print(\"\\nNaN value counts:\")\n",
    "print(processed_df[[\"price\", \"review_count\", \"review_rating\"]].isna().sum())"
   ]
  }
 ],
 "metadata": {
  "kernelspec": {
   "display_name": ".venv",
   "language": "python",
   "name": "python3"
  },
  "language_info": {
   "codemirror_mode": {
    "name": "ipython",
    "version": 3
   },
   "file_extension": ".py",
   "mimetype": "text/x-python",
   "name": "python",
   "nbconvert_exporter": "python",
   "pygments_lexer": "ipython3",
   "version": "3.11.8"
  }
 },
 "nbformat": 4,
 "nbformat_minor": 2
}
